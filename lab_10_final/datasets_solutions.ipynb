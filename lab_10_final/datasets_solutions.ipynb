{
 "cells": [
  {
   "cell_type": "code",
   "execution_count": 1,
   "metadata": {},
   "outputs": [],
   "source": [
    "# Libraries that this notebook will use:\n",
    "import numpy as np\n",
    "import pandas as pd\n",
    "import matplotlib.pyplot as plt\n",
    "import geopandas as gpd\n",
    "from shapely.geometry import Point\n",
    "# Helps the maps display nicely in the notebook:\n",
    "%matplotlib inline\n",
    "plt.rcParams['figure.figsize'] = [30, 20]\n",
    "# Tells the notebook not to display warnings:\n",
    "import warnings\n",
    "warnings.filterwarnings('ignore')"
   ]
  },
  {
   "cell_type": "markdown",
   "metadata": {},
   "source": [
    "# Working with and visualizing large datasets\n",
    "- Dealing with missing values\n",
    "- Filtering and selecting for certain rows and columns with ```.iloc[]``` and ```.loc[]```\n",
    "- Grouping data by specific attributes with ```.groupby()```\n",
    "- Working with temporal and categorial data and plotting lineplots and barplots\n",
    "- Reviewing list comprehensions\n",
    "- Merging two dataframes with ```.merge()```\n",
    "- Plotting chloropleth maps with GeoPandas\n",
    "\n",
    "## Data cleaning"
   ]
  },
  {
   "cell_type": "markdown",
   "metadata": {},
   "source": [
    "Today we're going to extend our Pandas and Geopandas knowledge to manipulate and visualize an existing large dataset. This dataset is a random sample of tweets collected over time (2012 to 2015) in Alameda County. The most relevant columns are the tweet ID, user ID, latitude, longitude, date, and census tract number.\n",
    "\n",
    "First, we need to clean the data. This data is relatively clean, but some columns have missing values, which may be problematic when you're trying to visualize, analyze, or model the data. There are many ways to deal with missing values, but today we're going to go over one: simply getting rid of them.\n",
    "\n",
    "Now, let's read in the data (from a .csv file) into Pandas. We'll call the variable for the dataframe ```tweets```."
   ]
  },
  {
   "cell_type": "code",
   "execution_count": 2,
   "metadata": {},
   "outputs": [
    {
     "data": {
      "text/html": [
       "<div>\n",
       "<style scoped>\n",
       "    .dataframe tbody tr th:only-of-type {\n",
       "        vertical-align: middle;\n",
       "    }\n",
       "\n",
       "    .dataframe tbody tr th {\n",
       "        vertical-align: top;\n",
       "    }\n",
       "\n",
       "    .dataframe thead th {\n",
       "        text-align: right;\n",
       "    }\n",
       "</style>\n",
       "<table border=\"1\" class=\"dataframe\">\n",
       "  <thead>\n",
       "    <tr style=\"text-align: right;\">\n",
       "      <th></th>\n",
       "      <th>Unnamed: 0</th>\n",
       "      <th>Unnamed: 0.1</th>\n",
       "      <th>id</th>\n",
       "      <th>u_id</th>\n",
       "      <th>lat</th>\n",
       "      <th>lon</th>\n",
       "      <th>date</th>\n",
       "      <th>tract</th>\n",
       "      <th>home_tract</th>\n",
       "    </tr>\n",
       "  </thead>\n",
       "  <tbody>\n",
       "    <tr>\n",
       "      <th>0</th>\n",
       "      <td>6687538</td>\n",
       "      <td>45549635</td>\n",
       "      <td>2.638238e-270</td>\n",
       "      <td>1.112537e-308</td>\n",
       "      <td>37.704135</td>\n",
       "      <td>-122.088003</td>\n",
       "      <td>2015-03-06T06:23:10Z</td>\n",
       "      <td>6.001431e+09</td>\n",
       "      <td>6.001431e+09</td>\n",
       "    </tr>\n",
       "    <tr>\n",
       "      <th>1</th>\n",
       "      <td>1657499</td>\n",
       "      <td>10992369</td>\n",
       "      <td>3.016355e-285</td>\n",
       "      <td>1.112537e-308</td>\n",
       "      <td>37.885946</td>\n",
       "      <td>-122.309281</td>\n",
       "      <td>2013-06-27T20:43:25Z</td>\n",
       "      <td>6.001420e+09</td>\n",
       "      <td>6.013340e+09</td>\n",
       "    </tr>\n",
       "    <tr>\n",
       "      <th>2</th>\n",
       "      <td>6405793</td>\n",
       "      <td>43710377</td>\n",
       "      <td>3.626058e-271</td>\n",
       "      <td>1.112537e-308</td>\n",
       "      <td>37.668113</td>\n",
       "      <td>-121.875291</td>\n",
       "      <td>2015-01-29T16:58:49Z</td>\n",
       "      <td>6.001451e+09</td>\n",
       "      <td>6.001451e+09</td>\n",
       "    </tr>\n",
       "    <tr>\n",
       "      <th>3</th>\n",
       "      <td>2267007</td>\n",
       "      <td>15376242</td>\n",
       "      <td>3.672158e-283</td>\n",
       "      <td>1.112537e-308</td>\n",
       "      <td>37.665651</td>\n",
       "      <td>-122.079126</td>\n",
       "      <td>2013-09-21T18:23:26Z</td>\n",
       "      <td>6.001436e+09</td>\n",
       "      <td>6.001436e+09</td>\n",
       "    </tr>\n",
       "    <tr>\n",
       "      <th>4</th>\n",
       "      <td>554362</td>\n",
       "      <td>3493962</td>\n",
       "      <td>8.446129e-291</td>\n",
       "      <td>1.112537e-308</td>\n",
       "      <td>37.634858</td>\n",
       "      <td>-122.056420</td>\n",
       "      <td>2012-11-10T05:41:18Z</td>\n",
       "      <td>6.001435e+09</td>\n",
       "      <td>6.001438e+09</td>\n",
       "    </tr>\n",
       "  </tbody>\n",
       "</table>\n",
       "</div>"
      ],
      "text/plain": [
       "   Unnamed: 0  Unnamed: 0.1             id           u_id        lat  \\\n",
       "0     6687538      45549635  2.638238e-270  1.112537e-308  37.704135   \n",
       "1     1657499      10992369  3.016355e-285  1.112537e-308  37.885946   \n",
       "2     6405793      43710377  3.626058e-271  1.112537e-308  37.668113   \n",
       "3     2267007      15376242  3.672158e-283  1.112537e-308  37.665651   \n",
       "4      554362       3493962  8.446129e-291  1.112537e-308  37.634858   \n",
       "\n",
       "          lon                  date         tract    home_tract  \n",
       "0 -122.088003  2015-03-06T06:23:10Z  6.001431e+09  6.001431e+09  \n",
       "1 -122.309281  2013-06-27T20:43:25Z  6.001420e+09  6.013340e+09  \n",
       "2 -121.875291  2015-01-29T16:58:49Z  6.001451e+09  6.001451e+09  \n",
       "3 -122.079126  2013-09-21T18:23:26Z  6.001436e+09  6.001436e+09  \n",
       "4 -122.056420  2012-11-10T05:41:18Z  6.001435e+09  6.001438e+09  "
      ]
     },
     "execution_count": 2,
     "metadata": {},
     "output_type": "execute_result"
    }
   ],
   "source": [
    "tweets = pd.read_csv(\"tweets.csv\")\n",
    "tweets.head()"
   ]
  },
  {
   "cell_type": "markdown",
   "metadata": {},
   "source": [
    "Let's take a look of how many rows we have before deleting the rows with missing values."
   ]
  },
  {
   "cell_type": "code",
   "execution_count": 3,
   "metadata": {},
   "outputs": [
    {
     "data": {
      "text/plain": [
       "743172"
      ]
     },
     "execution_count": 3,
     "metadata": {},
     "output_type": "execute_result"
    }
   ],
   "source": [
    "len(tweets) #185793"
   ]
  },
  {
   "cell_type": "markdown",
   "metadata": {},
   "source": [
    "Let's also look at what the column names of the dataset are."
   ]
  },
  {
   "cell_type": "code",
   "execution_count": 4,
   "metadata": {},
   "outputs": [
    {
     "data": {
      "text/plain": [
       "Index(['Unnamed: 0', 'Unnamed: 0.1', 'id', 'u_id', 'lat', 'lon', 'date',\n",
       "       'tract', 'home_tract'],\n",
       "      dtype='object')"
      ]
     },
     "execution_count": 4,
     "metadata": {},
     "output_type": "execute_result"
    }
   ],
   "source": [
    "tweets.columns"
   ]
  },
  {
   "cell_type": "markdown",
   "metadata": {},
   "source": [
    "Before we clean, let's view the rows with missing values first. The code below is how we can do so. Let's break it down.\n",
    "\n",
    "```tweets.isnull().any(axis=1)``` is a conditional statement that is a True or False value denoting if the corresponding row has a missing value.\n",
    "```tweets[tweets.isnull().any(axis=1)]``` selects the rows for where the above conditional is True.\n",
    "\n",
    "Note: axis = 0 would select the columns.\n",
    "\n",
    "Run the code below to display the first five rows that have missing values."
   ]
  },
  {
   "cell_type": "code",
   "execution_count": 5,
   "metadata": {},
   "outputs": [
    {
     "data": {
      "text/html": [
       "<div>\n",
       "<style scoped>\n",
       "    .dataframe tbody tr th:only-of-type {\n",
       "        vertical-align: middle;\n",
       "    }\n",
       "\n",
       "    .dataframe tbody tr th {\n",
       "        vertical-align: top;\n",
       "    }\n",
       "\n",
       "    .dataframe thead th {\n",
       "        text-align: right;\n",
       "    }\n",
       "</style>\n",
       "<table border=\"1\" class=\"dataframe\">\n",
       "  <thead>\n",
       "    <tr style=\"text-align: right;\">\n",
       "      <th></th>\n",
       "      <th>Unnamed: 0</th>\n",
       "      <th>Unnamed: 0.1</th>\n",
       "      <th>id</th>\n",
       "      <th>u_id</th>\n",
       "      <th>lat</th>\n",
       "      <th>lon</th>\n",
       "      <th>date</th>\n",
       "      <th>tract</th>\n",
       "      <th>home_tract</th>\n",
       "    </tr>\n",
       "  </thead>\n",
       "  <tbody>\n",
       "    <tr>\n",
       "      <th>1585</th>\n",
       "      <td>203115</td>\n",
       "      <td>1275268</td>\n",
       "      <td>5.178454e-292</td>\n",
       "      <td>1.112537e-308</td>\n",
       "      <td>37.822981</td>\n",
       "      <td>-122.241910</td>\n",
       "      <td>2012-09-21T05:10:22Z</td>\n",
       "      <td>6.001426e+09</td>\n",
       "      <td>NaN</td>\n",
       "    </tr>\n",
       "    <tr>\n",
       "      <th>17838</th>\n",
       "      <td>6243352</td>\n",
       "      <td>42677078</td>\n",
       "      <td>2.749413e-271</td>\n",
       "      <td>1.112537e-308</td>\n",
       "      <td>37.838668</td>\n",
       "      <td>-122.266042</td>\n",
       "      <td>2015-01-25T02:28:27Z</td>\n",
       "      <td>6.001401e+09</td>\n",
       "      <td>NaN</td>\n",
       "    </tr>\n",
       "    <tr>\n",
       "      <th>28064</th>\n",
       "      <td>4451672</td>\n",
       "      <td>30392793</td>\n",
       "      <td>1.459964e-277</td>\n",
       "      <td>1.112537e-308</td>\n",
       "      <td>37.841809</td>\n",
       "      <td>-122.293920</td>\n",
       "      <td>2014-05-10T18:21:15Z</td>\n",
       "      <td>6.001425e+09</td>\n",
       "      <td>NaN</td>\n",
       "    </tr>\n",
       "    <tr>\n",
       "      <th>32745</th>\n",
       "      <td>5930127</td>\n",
       "      <td>40652690</td>\n",
       "      <td>1.904475e-272</td>\n",
       "      <td>1.112537e-308</td>\n",
       "      <td>37.809338</td>\n",
       "      <td>-122.272779</td>\n",
       "      <td>2014-12-07T22:57:37Z</td>\n",
       "      <td>6.001403e+09</td>\n",
       "      <td>NaN</td>\n",
       "    </tr>\n",
       "    <tr>\n",
       "      <th>56028</th>\n",
       "      <td>3134045</td>\n",
       "      <td>21516927</td>\n",
       "      <td>4.323043e-280</td>\n",
       "      <td>1.112537e-308</td>\n",
       "      <td>37.865808</td>\n",
       "      <td>-122.314739</td>\n",
       "      <td>2014-01-27T05:10:34Z</td>\n",
       "      <td>6.001422e+09</td>\n",
       "      <td>NaN</td>\n",
       "    </tr>\n",
       "  </tbody>\n",
       "</table>\n",
       "</div>"
      ],
      "text/plain": [
       "       Unnamed: 0  Unnamed: 0.1             id           u_id        lat  \\\n",
       "1585       203115       1275268  5.178454e-292  1.112537e-308  37.822981   \n",
       "17838     6243352      42677078  2.749413e-271  1.112537e-308  37.838668   \n",
       "28064     4451672      30392793  1.459964e-277  1.112537e-308  37.841809   \n",
       "32745     5930127      40652690  1.904475e-272  1.112537e-308  37.809338   \n",
       "56028     3134045      21516927  4.323043e-280  1.112537e-308  37.865808   \n",
       "\n",
       "              lon                  date         tract  home_tract  \n",
       "1585  -122.241910  2012-09-21T05:10:22Z  6.001426e+09         NaN  \n",
       "17838 -122.266042  2015-01-25T02:28:27Z  6.001401e+09         NaN  \n",
       "28064 -122.293920  2014-05-10T18:21:15Z  6.001425e+09         NaN  \n",
       "32745 -122.272779  2014-12-07T22:57:37Z  6.001403e+09         NaN  \n",
       "56028 -122.314739  2014-01-27T05:10:34Z  6.001422e+09         NaN  "
      ]
     },
     "execution_count": 5,
     "metadata": {},
     "output_type": "execute_result"
    }
   ],
   "source": [
    "# Run this\n",
    "# Display rows with missing values in any column.\n",
    "tweets[tweets.isnull().any(axis=1)].head()"
   ]
  },
  {
   "cell_type": "markdown",
   "metadata": {},
   "source": [
    "There should be a total of 26 rows with missing values in the dataset. Run the next cell with the len() function to confirm."
   ]
  },
  {
   "cell_type": "code",
   "execution_count": 6,
   "metadata": {},
   "outputs": [
    {
     "data": {
      "text/plain": [
       "81"
      ]
     },
     "execution_count": 6,
     "metadata": {},
     "output_type": "execute_result"
    }
   ],
   "source": [
    "len(tweets[tweets.isnull().any(axis=1)])"
   ]
  },
  {
   "cell_type": "markdown",
   "metadata": {},
   "source": [
    "Now let's actually delete the rows, using the function \n",
    "\n",
    "```dataframename.dropna(axis=0, how='any')```\n",
    "\n",
    "which drops any row where there is a missing value in any column. Use ```dropna(...)``` on the dataframe ```tweets```. Use ```len()``` to count how many rows are remaining. You should see that the row count has dropped by 81."
   ]
  },
  {
   "cell_type": "code",
   "execution_count": null,
   "metadata": {},
   "outputs": [],
   "source": [
    "##fill in the ...\n",
    "tweets = ...\n",
    "len(...)"
   ]
  },
  {
   "cell_type": "code",
   "execution_count": 7,
   "metadata": {},
   "outputs": [
    {
     "data": {
      "text/plain": [
       "743091"
      ]
     },
     "execution_count": 7,
     "metadata": {},
     "output_type": "execute_result"
    }
   ],
   "source": [
    "# Solution\n",
    "tweets = tweets.dropna(axis=0, how='any')\n",
    "len(tweets) ##743172 before, now 743091"
   ]
  },
  {
   "cell_type": "markdown",
   "metadata": {},
   "source": [
    "Run the following cell to display the rows with missing values. There should be none."
   ]
  },
  {
   "cell_type": "code",
   "execution_count": 8,
   "metadata": {},
   "outputs": [
    {
     "data": {
      "text/html": [
       "<div>\n",
       "<style scoped>\n",
       "    .dataframe tbody tr th:only-of-type {\n",
       "        vertical-align: middle;\n",
       "    }\n",
       "\n",
       "    .dataframe tbody tr th {\n",
       "        vertical-align: top;\n",
       "    }\n",
       "\n",
       "    .dataframe thead th {\n",
       "        text-align: right;\n",
       "    }\n",
       "</style>\n",
       "<table border=\"1\" class=\"dataframe\">\n",
       "  <thead>\n",
       "    <tr style=\"text-align: right;\">\n",
       "      <th></th>\n",
       "      <th>Unnamed: 0</th>\n",
       "      <th>Unnamed: 0.1</th>\n",
       "      <th>id</th>\n",
       "      <th>u_id</th>\n",
       "      <th>lat</th>\n",
       "      <th>lon</th>\n",
       "      <th>date</th>\n",
       "      <th>tract</th>\n",
       "      <th>home_tract</th>\n",
       "    </tr>\n",
       "  </thead>\n",
       "  <tbody>\n",
       "  </tbody>\n",
       "</table>\n",
       "</div>"
      ],
      "text/plain": [
       "Empty DataFrame\n",
       "Columns: [Unnamed: 0, Unnamed: 0.1, id, u_id, lat, lon, date, tract, home_tract]\n",
       "Index: []"
      ]
     },
     "execution_count": 8,
     "metadata": {},
     "output_type": "execute_result"
    }
   ],
   "source": [
    "tweets[tweets.isnull().any(axis=1)]"
   ]
  },
  {
   "cell_type": "markdown",
   "metadata": {},
   "source": [
    "Run the following cell to reset the indices and get rid of extraneous columns. We will explain how this works in a later section."
   ]
  },
  {
   "cell_type": "code",
   "execution_count": 9,
   "metadata": {},
   "outputs": [
    {
     "data": {
      "text/html": [
       "<div>\n",
       "<style scoped>\n",
       "    .dataframe tbody tr th:only-of-type {\n",
       "        vertical-align: middle;\n",
       "    }\n",
       "\n",
       "    .dataframe tbody tr th {\n",
       "        vertical-align: top;\n",
       "    }\n",
       "\n",
       "    .dataframe thead th {\n",
       "        text-align: right;\n",
       "    }\n",
       "</style>\n",
       "<table border=\"1\" class=\"dataframe\">\n",
       "  <thead>\n",
       "    <tr style=\"text-align: right;\">\n",
       "      <th></th>\n",
       "      <th>id</th>\n",
       "      <th>u_id</th>\n",
       "      <th>lat</th>\n",
       "      <th>lon</th>\n",
       "      <th>date</th>\n",
       "      <th>tract</th>\n",
       "      <th>home_tract</th>\n",
       "    </tr>\n",
       "  </thead>\n",
       "  <tbody>\n",
       "    <tr>\n",
       "      <th>0</th>\n",
       "      <td>2.638238e-270</td>\n",
       "      <td>1.112537e-308</td>\n",
       "      <td>37.704135</td>\n",
       "      <td>-122.088003</td>\n",
       "      <td>2015-03-06T06:23:10Z</td>\n",
       "      <td>6.001431e+09</td>\n",
       "      <td>6.001431e+09</td>\n",
       "    </tr>\n",
       "    <tr>\n",
       "      <th>1</th>\n",
       "      <td>3.016355e-285</td>\n",
       "      <td>1.112537e-308</td>\n",
       "      <td>37.885946</td>\n",
       "      <td>-122.309281</td>\n",
       "      <td>2013-06-27T20:43:25Z</td>\n",
       "      <td>6.001420e+09</td>\n",
       "      <td>6.013340e+09</td>\n",
       "    </tr>\n",
       "    <tr>\n",
       "      <th>2</th>\n",
       "      <td>3.626058e-271</td>\n",
       "      <td>1.112537e-308</td>\n",
       "      <td>37.668113</td>\n",
       "      <td>-121.875291</td>\n",
       "      <td>2015-01-29T16:58:49Z</td>\n",
       "      <td>6.001451e+09</td>\n",
       "      <td>6.001451e+09</td>\n",
       "    </tr>\n",
       "    <tr>\n",
       "      <th>3</th>\n",
       "      <td>3.672158e-283</td>\n",
       "      <td>1.112537e-308</td>\n",
       "      <td>37.665651</td>\n",
       "      <td>-122.079126</td>\n",
       "      <td>2013-09-21T18:23:26Z</td>\n",
       "      <td>6.001436e+09</td>\n",
       "      <td>6.001436e+09</td>\n",
       "    </tr>\n",
       "    <tr>\n",
       "      <th>4</th>\n",
       "      <td>8.446129e-291</td>\n",
       "      <td>1.112537e-308</td>\n",
       "      <td>37.634858</td>\n",
       "      <td>-122.056420</td>\n",
       "      <td>2012-11-10T05:41:18Z</td>\n",
       "      <td>6.001435e+09</td>\n",
       "      <td>6.001438e+09</td>\n",
       "    </tr>\n",
       "  </tbody>\n",
       "</table>\n",
       "</div>"
      ],
      "text/plain": [
       "              id           u_id        lat         lon                  date  \\\n",
       "0  2.638238e-270  1.112537e-308  37.704135 -122.088003  2015-03-06T06:23:10Z   \n",
       "1  3.016355e-285  1.112537e-308  37.885946 -122.309281  2013-06-27T20:43:25Z   \n",
       "2  3.626058e-271  1.112537e-308  37.668113 -121.875291  2015-01-29T16:58:49Z   \n",
       "3  3.672158e-283  1.112537e-308  37.665651 -122.079126  2013-09-21T18:23:26Z   \n",
       "4  8.446129e-291  1.112537e-308  37.634858 -122.056420  2012-11-10T05:41:18Z   \n",
       "\n",
       "          tract    home_tract  \n",
       "0  6.001431e+09  6.001431e+09  \n",
       "1  6.001420e+09  6.013340e+09  \n",
       "2  6.001451e+09  6.001451e+09  \n",
       "3  6.001436e+09  6.001436e+09  \n",
       "4  6.001435e+09  6.001438e+09  "
      ]
     },
     "execution_count": 9,
     "metadata": {},
     "output_type": "execute_result"
    }
   ],
   "source": [
    "tweets = tweets.reset_index()\n",
    "tweets = tweets.loc[:, ['id', 'u_id', 'lat', 'lon', 'date', 'tract', 'home_tract']]\n",
    "tweets.head()"
   ]
  },
  {
   "cell_type": "markdown",
   "metadata": {},
   "source": [
    "## Plotting the number of tweets over time\n",
    "### Converting to DateTime\n",
    "Notice that we have temporal data in the ```tweets``` dataset. We can use the temporal information to plot the number of tweets over time. However, right now the temporal information is so fine grain, right down towards the second, that we probably won't be able to see any patterns. So for this exercise, *we only want the date information*. \n",
    "\n",
    "Now let's take a step backwards first.\n",
    "In our dataframe, the temporal information is stored as **strings**, but for Python to understand these strings as temporal information, we'll need to convert them to **Python DateTime** objects. From then we can get the dates only.\n",
    "\n",
    "When we run the following code, we can see that the individual dates are currently stored as strings."
   ]
  },
  {
   "cell_type": "code",
   "execution_count": 10,
   "metadata": {},
   "outputs": [
    {
     "name": "stdout",
     "output_type": "stream",
     "text": [
      "2015-03-06T06:23:10Z\n",
      "<class 'str'>\n"
     ]
    }
   ],
   "source": [
    "# Run this\n",
    "print(tweets['date'][0])\n",
    "print(type(tweets['date'][0]))"
   ]
  },
  {
   "cell_type": "markdown",
   "metadata": {},
   "source": [
    "To convert them into DateTime objects, we simply need to use the \n",
    "\n",
    "```pd.to_datetime(<the list, array, or series you want to convert>)```\n",
    "\n",
    "function, which outputs the converted values. In the following cell, set the date column equal to the converted values you get with ```pd._to_datetime(...)```. When you run ```print()``` lines, you should see that the type of the dates has now changed into \"Timestamp\"."
   ]
  },
  {
   "cell_type": "code",
   "execution_count": null,
   "metadata": {},
   "outputs": [],
   "source": [
    "##fill in ...\n",
    "tweets['date'] = ...\n",
    "print(tweets['date'][0])\n",
    "print(type(tweets['date'][0]))"
   ]
  },
  {
   "cell_type": "code",
   "execution_count": 11,
   "metadata": {},
   "outputs": [
    {
     "name": "stdout",
     "output_type": "stream",
     "text": [
      "2015-03-06 06:23:10\n",
      "<class 'pandas._libs.tslibs.timestamps.Timestamp'>\n"
     ]
    }
   ],
   "source": [
    "# Solution\n",
    "tweets['date'] = pd.to_datetime(tweets['date'])\n",
    "print(tweets['date'][0])\n",
    "print(type(tweets['date'][0]))"
   ]
  },
  {
   "cell_type": "markdown",
   "metadata": {},
   "source": [
    "Now, we want to get the date from a Timestamp, which is the first part of the output above. To do this, we will use a list comprehension.\n",
    "\n",
    "To remind you, here's the structure of a list comprehension. Let's say you have a list called ```nums``` with values ```[1, 2, 3]``` and want to add 1 to each of the values. The variable n will take on every value in the list called nums, and then we add 1 to every value."
   ]
  },
  {
   "cell_type": "code",
   "execution_count": 12,
   "metadata": {},
   "outputs": [
    {
     "data": {
      "text/plain": [
       "[2, 3, 4]"
      ]
     },
     "execution_count": 12,
     "metadata": {},
     "output_type": "execute_result"
    }
   ],
   "source": [
    "nums = [1, 2, 3]\n",
    "[n + 1 for n in nums]"
   ]
  },
  {
   "cell_type": "code",
   "execution_count": 13,
   "metadata": {},
   "outputs": [
    {
     "data": {
      "text/plain": [
       "[2, 3, 4]"
      ]
     },
     "execution_count": 13,
     "metadata": {},
     "output_type": "execute_result"
    }
   ],
   "source": [
    "##If we wanted to do the above with a for loop, it would look like this:\n",
    "\n",
    "nums = [1,2,3]\n",
    "new_nums = []\n",
    "for n in nums:\n",
    "    add_1 = n + 1\n",
    "    new_nums.append(add_1)\n",
    "    \n",
    "new_nums"
   ]
  },
  {
   "cell_type": "markdown",
   "metadata": {},
   "source": [
    "A list comprehension runs faster than a for loop because we do everything in a single line, whereas in a for loop, we have to go through more than one line."
   ]
  },
  {
   "cell_type": "markdown",
   "metadata": {},
   "source": [
    "Now do the exercise below.\n",
    "\n",
    "To only get the date from a Timestamp, you just need to use the function \n",
    "\n",
    "```<the timestamp>.date()```. \n",
    "\n",
    "To convert all the values in our column, we can use a list comprehension. Set the date column equal to the output of your list comprehension.\n",
    "\n",
    "When you run the ```print()``` lines, you can see that type of the dates has now changed to \"datetime.date\"."
   ]
  },
  {
   "cell_type": "code",
   "execution_count": null,
   "metadata": {},
   "outputs": [],
   "source": [
    "##fill in ...\n",
    "tweets['date'] = ...\n",
    "print(tweets['date'][0])\n",
    "print(type(tweets['date'][0]))"
   ]
  },
  {
   "cell_type": "code",
   "execution_count": 14,
   "metadata": {},
   "outputs": [
    {
     "name": "stdout",
     "output_type": "stream",
     "text": [
      "2015-03-06\n",
      "<class 'datetime.date'>\n"
     ]
    }
   ],
   "source": [
    "# Solution\n",
    "tweets['date'] = [dt.date() for dt in tweets['date']]  ##any variable besides dt is fine\n",
    "print(tweets['date'][0])\n",
    "print(type(tweets['date'][0]))"
   ]
  },
  {
   "cell_type": "code",
   "execution_count": 15,
   "metadata": {},
   "outputs": [
    {
     "data": {
      "text/html": [
       "<div>\n",
       "<style scoped>\n",
       "    .dataframe tbody tr th:only-of-type {\n",
       "        vertical-align: middle;\n",
       "    }\n",
       "\n",
       "    .dataframe tbody tr th {\n",
       "        vertical-align: top;\n",
       "    }\n",
       "\n",
       "    .dataframe thead th {\n",
       "        text-align: right;\n",
       "    }\n",
       "</style>\n",
       "<table border=\"1\" class=\"dataframe\">\n",
       "  <thead>\n",
       "    <tr style=\"text-align: right;\">\n",
       "      <th></th>\n",
       "      <th>id</th>\n",
       "      <th>u_id</th>\n",
       "      <th>lat</th>\n",
       "      <th>lon</th>\n",
       "      <th>date</th>\n",
       "      <th>tract</th>\n",
       "      <th>home_tract</th>\n",
       "    </tr>\n",
       "  </thead>\n",
       "  <tbody>\n",
       "    <tr>\n",
       "      <th>0</th>\n",
       "      <td>2.638238e-270</td>\n",
       "      <td>1.112537e-308</td>\n",
       "      <td>37.704135</td>\n",
       "      <td>-122.088003</td>\n",
       "      <td>2015-03-06</td>\n",
       "      <td>6.001431e+09</td>\n",
       "      <td>6.001431e+09</td>\n",
       "    </tr>\n",
       "    <tr>\n",
       "      <th>1</th>\n",
       "      <td>3.016355e-285</td>\n",
       "      <td>1.112537e-308</td>\n",
       "      <td>37.885946</td>\n",
       "      <td>-122.309281</td>\n",
       "      <td>2013-06-27</td>\n",
       "      <td>6.001420e+09</td>\n",
       "      <td>6.013340e+09</td>\n",
       "    </tr>\n",
       "    <tr>\n",
       "      <th>2</th>\n",
       "      <td>3.626058e-271</td>\n",
       "      <td>1.112537e-308</td>\n",
       "      <td>37.668113</td>\n",
       "      <td>-121.875291</td>\n",
       "      <td>2015-01-29</td>\n",
       "      <td>6.001451e+09</td>\n",
       "      <td>6.001451e+09</td>\n",
       "    </tr>\n",
       "    <tr>\n",
       "      <th>3</th>\n",
       "      <td>3.672158e-283</td>\n",
       "      <td>1.112537e-308</td>\n",
       "      <td>37.665651</td>\n",
       "      <td>-122.079126</td>\n",
       "      <td>2013-09-21</td>\n",
       "      <td>6.001436e+09</td>\n",
       "      <td>6.001436e+09</td>\n",
       "    </tr>\n",
       "    <tr>\n",
       "      <th>4</th>\n",
       "      <td>8.446129e-291</td>\n",
       "      <td>1.112537e-308</td>\n",
       "      <td>37.634858</td>\n",
       "      <td>-122.056420</td>\n",
       "      <td>2012-11-10</td>\n",
       "      <td>6.001435e+09</td>\n",
       "      <td>6.001438e+09</td>\n",
       "    </tr>\n",
       "  </tbody>\n",
       "</table>\n",
       "</div>"
      ],
      "text/plain": [
       "              id           u_id        lat         lon        date  \\\n",
       "0  2.638238e-270  1.112537e-308  37.704135 -122.088003  2015-03-06   \n",
       "1  3.016355e-285  1.112537e-308  37.885946 -122.309281  2013-06-27   \n",
       "2  3.626058e-271  1.112537e-308  37.668113 -121.875291  2015-01-29   \n",
       "3  3.672158e-283  1.112537e-308  37.665651 -122.079126  2013-09-21   \n",
       "4  8.446129e-291  1.112537e-308  37.634858 -122.056420  2012-11-10   \n",
       "\n",
       "          tract    home_tract  \n",
       "0  6.001431e+09  6.001431e+09  \n",
       "1  6.001420e+09  6.013340e+09  \n",
       "2  6.001451e+09  6.001451e+09  \n",
       "3  6.001436e+09  6.001436e+09  \n",
       "4  6.001435e+09  6.001438e+09  "
      ]
     },
     "execution_count": 15,
     "metadata": {},
     "output_type": "execute_result"
    }
   ],
   "source": [
    "# Run this\n",
    "tweets.head()"
   ]
  },
  {
   "cell_type": "markdown",
   "metadata": {},
   "source": [
    "### Grouping tweets by date\n",
    "Now we want to aggregate by date. Specifically, we want to get the count of tweets per date. We can use the function \n",
    "\n",
    "```<the dataframe>.groupby(by=<column name to group by>).<an aggregating function, e.g. count(), max(), mean()>```, \n",
    "\n",
    "which outputs a grouped dataframe, to do so. Which aggregating function should we use? Set a variable called ```tweets_by_date``` equal to the grouped dataframe. "
   ]
  },
  {
   "cell_type": "code",
   "execution_count": null,
   "metadata": {},
   "outputs": [],
   "source": [
    "##fill in ...\n",
    "tweets_by_date = ...\n",
    "tweets_by_date.head()"
   ]
  },
  {
   "cell_type": "code",
   "execution_count": 16,
   "metadata": {},
   "outputs": [
    {
     "data": {
      "text/html": [
       "<div>\n",
       "<style scoped>\n",
       "    .dataframe tbody tr th:only-of-type {\n",
       "        vertical-align: middle;\n",
       "    }\n",
       "\n",
       "    .dataframe tbody tr th {\n",
       "        vertical-align: top;\n",
       "    }\n",
       "\n",
       "    .dataframe thead th {\n",
       "        text-align: right;\n",
       "    }\n",
       "</style>\n",
       "<table border=\"1\" class=\"dataframe\">\n",
       "  <thead>\n",
       "    <tr style=\"text-align: right;\">\n",
       "      <th></th>\n",
       "      <th>id</th>\n",
       "      <th>u_id</th>\n",
       "      <th>lat</th>\n",
       "      <th>lon</th>\n",
       "      <th>tract</th>\n",
       "      <th>home_tract</th>\n",
       "    </tr>\n",
       "    <tr>\n",
       "      <th>date</th>\n",
       "      <th></th>\n",
       "      <th></th>\n",
       "      <th></th>\n",
       "      <th></th>\n",
       "      <th></th>\n",
       "      <th></th>\n",
       "    </tr>\n",
       "  </thead>\n",
       "  <tbody>\n",
       "    <tr>\n",
       "      <th>2012-07-01</th>\n",
       "      <td>174</td>\n",
       "      <td>174</td>\n",
       "      <td>174</td>\n",
       "      <td>174</td>\n",
       "      <td>174</td>\n",
       "      <td>174</td>\n",
       "    </tr>\n",
       "    <tr>\n",
       "      <th>2012-07-02</th>\n",
       "      <td>256</td>\n",
       "      <td>256</td>\n",
       "      <td>256</td>\n",
       "      <td>256</td>\n",
       "      <td>256</td>\n",
       "      <td>256</td>\n",
       "    </tr>\n",
       "    <tr>\n",
       "      <th>2012-07-03</th>\n",
       "      <td>262</td>\n",
       "      <td>262</td>\n",
       "      <td>262</td>\n",
       "      <td>262</td>\n",
       "      <td>262</td>\n",
       "      <td>262</td>\n",
       "    </tr>\n",
       "    <tr>\n",
       "      <th>2012-07-04</th>\n",
       "      <td>264</td>\n",
       "      <td>264</td>\n",
       "      <td>264</td>\n",
       "      <td>264</td>\n",
       "      <td>264</td>\n",
       "      <td>264</td>\n",
       "    </tr>\n",
       "    <tr>\n",
       "      <th>2012-07-05</th>\n",
       "      <td>248</td>\n",
       "      <td>248</td>\n",
       "      <td>248</td>\n",
       "      <td>248</td>\n",
       "      <td>248</td>\n",
       "      <td>248</td>\n",
       "    </tr>\n",
       "  </tbody>\n",
       "</table>\n",
       "</div>"
      ],
      "text/plain": [
       "             id  u_id  lat  lon  tract  home_tract\n",
       "date                                              \n",
       "2012-07-01  174   174  174  174    174         174\n",
       "2012-07-02  256   256  256  256    256         256\n",
       "2012-07-03  262   262  262  262    262         262\n",
       "2012-07-04  264   264  264  264    264         264\n",
       "2012-07-05  248   248  248  248    248         248"
      ]
     },
     "execution_count": 16,
     "metadata": {},
     "output_type": "execute_result"
    }
   ],
   "source": [
    "# Solution\n",
    "tweets_by_date = tweets.groupby(by=\"date\").count()\n",
    "tweets_by_date.head()"
   ]
  },
  {
   "cell_type": "markdown",
   "metadata": {},
   "source": [
    "Below, we are going to perform some dataframe operations that will prepare our data for visualization. Pay attention, as you will need to do something similar later on.\n",
    "\n",
    "Notice how the date column is now bolded. Pandas now views the date column as an index, which is like an address. However, we want it to be a normal column again if we want to access it with attributes like ```loc``` and ```iloc```. We use ```reset_index()``` to reset the index."
   ]
  },
  {
   "cell_type": "code",
   "execution_count": 17,
   "metadata": {},
   "outputs": [
    {
     "data": {
      "text/html": [
       "<div>\n",
       "<style scoped>\n",
       "    .dataframe tbody tr th:only-of-type {\n",
       "        vertical-align: middle;\n",
       "    }\n",
       "\n",
       "    .dataframe tbody tr th {\n",
       "        vertical-align: top;\n",
       "    }\n",
       "\n",
       "    .dataframe thead th {\n",
       "        text-align: right;\n",
       "    }\n",
       "</style>\n",
       "<table border=\"1\" class=\"dataframe\">\n",
       "  <thead>\n",
       "    <tr style=\"text-align: right;\">\n",
       "      <th></th>\n",
       "      <th>date</th>\n",
       "      <th>id</th>\n",
       "      <th>u_id</th>\n",
       "      <th>lat</th>\n",
       "      <th>lon</th>\n",
       "      <th>tract</th>\n",
       "      <th>home_tract</th>\n",
       "    </tr>\n",
       "  </thead>\n",
       "  <tbody>\n",
       "    <tr>\n",
       "      <th>0</th>\n",
       "      <td>2012-07-01</td>\n",
       "      <td>174</td>\n",
       "      <td>174</td>\n",
       "      <td>174</td>\n",
       "      <td>174</td>\n",
       "      <td>174</td>\n",
       "      <td>174</td>\n",
       "    </tr>\n",
       "    <tr>\n",
       "      <th>1</th>\n",
       "      <td>2012-07-02</td>\n",
       "      <td>256</td>\n",
       "      <td>256</td>\n",
       "      <td>256</td>\n",
       "      <td>256</td>\n",
       "      <td>256</td>\n",
       "      <td>256</td>\n",
       "    </tr>\n",
       "    <tr>\n",
       "      <th>2</th>\n",
       "      <td>2012-07-03</td>\n",
       "      <td>262</td>\n",
       "      <td>262</td>\n",
       "      <td>262</td>\n",
       "      <td>262</td>\n",
       "      <td>262</td>\n",
       "      <td>262</td>\n",
       "    </tr>\n",
       "    <tr>\n",
       "      <th>3</th>\n",
       "      <td>2012-07-04</td>\n",
       "      <td>264</td>\n",
       "      <td>264</td>\n",
       "      <td>264</td>\n",
       "      <td>264</td>\n",
       "      <td>264</td>\n",
       "      <td>264</td>\n",
       "    </tr>\n",
       "    <tr>\n",
       "      <th>4</th>\n",
       "      <td>2012-07-05</td>\n",
       "      <td>248</td>\n",
       "      <td>248</td>\n",
       "      <td>248</td>\n",
       "      <td>248</td>\n",
       "      <td>248</td>\n",
       "      <td>248</td>\n",
       "    </tr>\n",
       "  </tbody>\n",
       "</table>\n",
       "</div>"
      ],
      "text/plain": [
       "         date   id  u_id  lat  lon  tract  home_tract\n",
       "0  2012-07-01  174   174  174  174    174         174\n",
       "1  2012-07-02  256   256  256  256    256         256\n",
       "2  2012-07-03  262   262  262  262    262         262\n",
       "3  2012-07-04  264   264  264  264    264         264\n",
       "4  2012-07-05  248   248  248  248    248         248"
      ]
     },
     "execution_count": 17,
     "metadata": {},
     "output_type": "execute_result"
    }
   ],
   "source": [
    "# Run this\n",
    "tweets_by_date = tweets_by_date.reset_index()\n",
    "tweets_by_date.head()"
   ]
  },
  {
   "cell_type": "markdown",
   "metadata": {},
   "source": [
    "Now we have a lot of columns that we don't need. Remember ```.iloc[]```? We'll use ```.iloc[]``` to select only the first two columns."
   ]
  },
  {
   "cell_type": "code",
   "execution_count": 18,
   "metadata": {},
   "outputs": [
    {
     "data": {
      "text/html": [
       "<div>\n",
       "<style scoped>\n",
       "    .dataframe tbody tr th:only-of-type {\n",
       "        vertical-align: middle;\n",
       "    }\n",
       "\n",
       "    .dataframe tbody tr th {\n",
       "        vertical-align: top;\n",
       "    }\n",
       "\n",
       "    .dataframe thead th {\n",
       "        text-align: right;\n",
       "    }\n",
       "</style>\n",
       "<table border=\"1\" class=\"dataframe\">\n",
       "  <thead>\n",
       "    <tr style=\"text-align: right;\">\n",
       "      <th></th>\n",
       "      <th>date</th>\n",
       "      <th>id</th>\n",
       "    </tr>\n",
       "  </thead>\n",
       "  <tbody>\n",
       "    <tr>\n",
       "      <th>0</th>\n",
       "      <td>2012-07-01</td>\n",
       "      <td>174</td>\n",
       "    </tr>\n",
       "    <tr>\n",
       "      <th>1</th>\n",
       "      <td>2012-07-02</td>\n",
       "      <td>256</td>\n",
       "    </tr>\n",
       "    <tr>\n",
       "      <th>2</th>\n",
       "      <td>2012-07-03</td>\n",
       "      <td>262</td>\n",
       "    </tr>\n",
       "    <tr>\n",
       "      <th>3</th>\n",
       "      <td>2012-07-04</td>\n",
       "      <td>264</td>\n",
       "    </tr>\n",
       "    <tr>\n",
       "      <th>4</th>\n",
       "      <td>2012-07-05</td>\n",
       "      <td>248</td>\n",
       "    </tr>\n",
       "  </tbody>\n",
       "</table>\n",
       "</div>"
      ],
      "text/plain": [
       "         date   id\n",
       "0  2012-07-01  174\n",
       "1  2012-07-02  256\n",
       "2  2012-07-03  262\n",
       "3  2012-07-04  264\n",
       "4  2012-07-05  248"
      ]
     },
     "execution_count": 18,
     "metadata": {},
     "output_type": "execute_result"
    }
   ],
   "source": [
    "# Run this\n",
    "tweets_by_date = tweets_by_date.iloc[:, 0:2]\n",
    "tweets_by_date.head()"
   ]
  },
  {
   "cell_type": "markdown",
   "metadata": {},
   "source": [
    "The second column has a weird name. ```tweets_by_date.columns``` gets the column names of the dataframe. We can set them equal to a list with the new column names to rename them. Let's run the cell below to rename the id column to number of tweets"
   ]
  },
  {
   "cell_type": "code",
   "execution_count": 19,
   "metadata": {},
   "outputs": [
    {
     "data": {
      "text/html": [
       "<div>\n",
       "<style scoped>\n",
       "    .dataframe tbody tr th:only-of-type {\n",
       "        vertical-align: middle;\n",
       "    }\n",
       "\n",
       "    .dataframe tbody tr th {\n",
       "        vertical-align: top;\n",
       "    }\n",
       "\n",
       "    .dataframe thead th {\n",
       "        text-align: right;\n",
       "    }\n",
       "</style>\n",
       "<table border=\"1\" class=\"dataframe\">\n",
       "  <thead>\n",
       "    <tr style=\"text-align: right;\">\n",
       "      <th></th>\n",
       "      <th>date</th>\n",
       "      <th>number of tweets</th>\n",
       "    </tr>\n",
       "  </thead>\n",
       "  <tbody>\n",
       "    <tr>\n",
       "      <th>0</th>\n",
       "      <td>2012-07-01</td>\n",
       "      <td>174</td>\n",
       "    </tr>\n",
       "    <tr>\n",
       "      <th>1</th>\n",
       "      <td>2012-07-02</td>\n",
       "      <td>256</td>\n",
       "    </tr>\n",
       "    <tr>\n",
       "      <th>2</th>\n",
       "      <td>2012-07-03</td>\n",
       "      <td>262</td>\n",
       "    </tr>\n",
       "    <tr>\n",
       "      <th>3</th>\n",
       "      <td>2012-07-04</td>\n",
       "      <td>264</td>\n",
       "    </tr>\n",
       "    <tr>\n",
       "      <th>4</th>\n",
       "      <td>2012-07-05</td>\n",
       "      <td>248</td>\n",
       "    </tr>\n",
       "  </tbody>\n",
       "</table>\n",
       "</div>"
      ],
      "text/plain": [
       "         date  number of tweets\n",
       "0  2012-07-01               174\n",
       "1  2012-07-02               256\n",
       "2  2012-07-03               262\n",
       "3  2012-07-04               264\n",
       "4  2012-07-05               248"
      ]
     },
     "execution_count": 19,
     "metadata": {},
     "output_type": "execute_result"
    }
   ],
   "source": [
    "# Run this\n",
    "tweets_by_date.columns = ['date', 'number of tweets']\n",
    "tweets_by_date.head()"
   ]
  },
  {
   "cell_type": "markdown",
   "metadata": {},
   "source": [
    "### Using Matplotlib to plot a line plot: Number of tweets vs. date\n",
    "Time to plot! Use \n",
    "\n",
    "```plt.plot(<list, array, or series of the x values>, <the y values>)```\n",
    "\n",
    "to plot the number of tweets vs. time. We've labeled the axes and title. Study the code, as you will need to do it yourself later. "
   ]
  },
  {
   "cell_type": "code",
   "execution_count": null,
   "metadata": {},
   "outputs": [],
   "source": [
    "##fill in the ... with your plotting code\n",
    "plt.figure(figsize=[18, 7])\n",
    "...\n",
    "plt.xlabel('time')\n",
    "plt.ylabel('number of tweets')\n",
    "plt.title('Number of Tweets over Time')"
   ]
  },
  {
   "cell_type": "code",
   "execution_count": 20,
   "metadata": {},
   "outputs": [
    {
     "data": {
      "text/plain": [
       "Text(0.5, 1.0, 'Number of Tweets over Time')"
      ]
     },
     "execution_count": 20,
     "metadata": {},
     "output_type": "execute_result"
    },
    {
     "data": {
      "image/png": "[encoded data removed]",
      "text/plain": [
       "<Figure size 1296x504 with 1 Axes>"
      ]
     },
     "metadata": {
      "needs_background": "light"
     },
     "output_type": "display_data"
    }
   ],
   "source": [
    "# Solution\n",
    "plt.figure(figsize=[18, 7])\n",
    "plt.plot(tweets_by_date['date'], tweets_by_date['number of tweets'])\n",
    "plt.xlabel('time')\n",
    "plt.ylabel('number of tweets')\n",
    "plt.title('Number of Tweets over Time')"
   ]
  },
  {
   "cell_type": "markdown",
   "metadata": {},
   "source": [
    "## Number of tweets by tract - Barplots\n",
    "### Grouping tweets by census tract\n",
    "Remember how we grouped tweets by date? Do the same, but this time, group instead by ```tract``` and aggregate with count(). Set the output equal to a variable called ```tweets_by_tract```."
   ]
  },
  {
   "cell_type": "code",
   "execution_count": null,
   "metadata": {},
   "outputs": [],
   "source": [
    "##fill in the ...\n",
    "tweets_by_tract = ...\n",
    "tweets_by_tract.head()"
   ]
  },
  {
   "cell_type": "code",
   "execution_count": 21,
   "metadata": {},
   "outputs": [
    {
     "data": {
      "text/html": [
       "<div>\n",
       "<style scoped>\n",
       "    .dataframe tbody tr th:only-of-type {\n",
       "        vertical-align: middle;\n",
       "    }\n",
       "\n",
       "    .dataframe tbody tr th {\n",
       "        vertical-align: top;\n",
       "    }\n",
       "\n",
       "    .dataframe thead th {\n",
       "        text-align: right;\n",
       "    }\n",
       "</style>\n",
       "<table border=\"1\" class=\"dataframe\">\n",
       "  <thead>\n",
       "    <tr style=\"text-align: right;\">\n",
       "      <th></th>\n",
       "      <th>id</th>\n",
       "      <th>u_id</th>\n",
       "      <th>lat</th>\n",
       "      <th>lon</th>\n",
       "      <th>date</th>\n",
       "      <th>home_tract</th>\n",
       "    </tr>\n",
       "    <tr>\n",
       "      <th>tract</th>\n",
       "      <th></th>\n",
       "      <th></th>\n",
       "      <th></th>\n",
       "      <th></th>\n",
       "      <th></th>\n",
       "      <th></th>\n",
       "    </tr>\n",
       "  </thead>\n",
       "  <tbody>\n",
       "    <tr>\n",
       "      <th>6.001400e+09</th>\n",
       "      <td>706</td>\n",
       "      <td>706</td>\n",
       "      <td>706</td>\n",
       "      <td>706</td>\n",
       "      <td>706</td>\n",
       "      <td>706</td>\n",
       "    </tr>\n",
       "    <tr>\n",
       "      <th>6.001400e+09</th>\n",
       "      <td>784</td>\n",
       "      <td>784</td>\n",
       "      <td>784</td>\n",
       "      <td>784</td>\n",
       "      <td>784</td>\n",
       "      <td>784</td>\n",
       "    </tr>\n",
       "    <tr>\n",
       "      <th>6.001400e+09</th>\n",
       "      <td>2289</td>\n",
       "      <td>2289</td>\n",
       "      <td>2289</td>\n",
       "      <td>2289</td>\n",
       "      <td>2289</td>\n",
       "      <td>2289</td>\n",
       "    </tr>\n",
       "    <tr>\n",
       "      <th>6.001400e+09</th>\n",
       "      <td>819</td>\n",
       "      <td>819</td>\n",
       "      <td>819</td>\n",
       "      <td>819</td>\n",
       "      <td>819</td>\n",
       "      <td>819</td>\n",
       "    </tr>\n",
       "    <tr>\n",
       "      <th>6.001400e+09</th>\n",
       "      <td>779</td>\n",
       "      <td>779</td>\n",
       "      <td>779</td>\n",
       "      <td>779</td>\n",
       "      <td>779</td>\n",
       "      <td>779</td>\n",
       "    </tr>\n",
       "  </tbody>\n",
       "</table>\n",
       "</div>"
      ],
      "text/plain": [
       "                id  u_id   lat   lon  date  home_tract\n",
       "tract                                                 \n",
       "6.001400e+09   706   706   706   706   706         706\n",
       "6.001400e+09   784   784   784   784   784         784\n",
       "6.001400e+09  2289  2289  2289  2289  2289        2289\n",
       "6.001400e+09   819   819   819   819   819         819\n",
       "6.001400e+09   779   779   779   779   779         779"
      ]
     },
     "execution_count": 21,
     "metadata": {},
     "output_type": "execute_result"
    }
   ],
   "source": [
    "# Solution\n",
    "tweets_by_tract = tweets.groupby(by=\"tract\").count()\n",
    "tweets_by_tract.head()"
   ]
  },
  {
   "cell_type": "markdown",
   "metadata": {},
   "source": [
    "Pandas now sees the tract as an index, but we don't want that. Set the indices back to normal using ```reset_index()```, referencing the previous section."
   ]
  },
  {
   "cell_type": "code",
   "execution_count": null,
   "metadata": {},
   "outputs": [],
   "source": [
    "##fill in the ...\n",
    "tweets_by_tract = ...\n",
    "tweets_by_tract.head()"
   ]
  },
  {
   "cell_type": "code",
   "execution_count": 22,
   "metadata": {},
   "outputs": [
    {
     "data": {
      "text/html": [
       "<div>\n",
       "<style scoped>\n",
       "    .dataframe tbody tr th:only-of-type {\n",
       "        vertical-align: middle;\n",
       "    }\n",
       "\n",
       "    .dataframe tbody tr th {\n",
       "        vertical-align: top;\n",
       "    }\n",
       "\n",
       "    .dataframe thead th {\n",
       "        text-align: right;\n",
       "    }\n",
       "</style>\n",
       "<table border=\"1\" class=\"dataframe\">\n",
       "  <thead>\n",
       "    <tr style=\"text-align: right;\">\n",
       "      <th></th>\n",
       "      <th>tract</th>\n",
       "      <th>id</th>\n",
       "      <th>u_id</th>\n",
       "      <th>lat</th>\n",
       "      <th>lon</th>\n",
       "      <th>date</th>\n",
       "      <th>home_tract</th>\n",
       "    </tr>\n",
       "  </thead>\n",
       "  <tbody>\n",
       "    <tr>\n",
       "      <th>0</th>\n",
       "      <td>6.001400e+09</td>\n",
       "      <td>706</td>\n",
       "      <td>706</td>\n",
       "      <td>706</td>\n",
       "      <td>706</td>\n",
       "      <td>706</td>\n",
       "      <td>706</td>\n",
       "    </tr>\n",
       "    <tr>\n",
       "      <th>1</th>\n",
       "      <td>6.001400e+09</td>\n",
       "      <td>784</td>\n",
       "      <td>784</td>\n",
       "      <td>784</td>\n",
       "      <td>784</td>\n",
       "      <td>784</td>\n",
       "      <td>784</td>\n",
       "    </tr>\n",
       "    <tr>\n",
       "      <th>2</th>\n",
       "      <td>6.001400e+09</td>\n",
       "      <td>2289</td>\n",
       "      <td>2289</td>\n",
       "      <td>2289</td>\n",
       "      <td>2289</td>\n",
       "      <td>2289</td>\n",
       "      <td>2289</td>\n",
       "    </tr>\n",
       "    <tr>\n",
       "      <th>3</th>\n",
       "      <td>6.001400e+09</td>\n",
       "      <td>819</td>\n",
       "      <td>819</td>\n",
       "      <td>819</td>\n",
       "      <td>819</td>\n",
       "      <td>819</td>\n",
       "      <td>819</td>\n",
       "    </tr>\n",
       "    <tr>\n",
       "      <th>4</th>\n",
       "      <td>6.001400e+09</td>\n",
       "      <td>779</td>\n",
       "      <td>779</td>\n",
       "      <td>779</td>\n",
       "      <td>779</td>\n",
       "      <td>779</td>\n",
       "      <td>779</td>\n",
       "    </tr>\n",
       "  </tbody>\n",
       "</table>\n",
       "</div>"
      ],
      "text/plain": [
       "          tract    id  u_id   lat   lon  date  home_tract\n",
       "0  6.001400e+09   706   706   706   706   706         706\n",
       "1  6.001400e+09   784   784   784   784   784         784\n",
       "2  6.001400e+09  2289  2289  2289  2289  2289        2289\n",
       "3  6.001400e+09   819   819   819   819   819         819\n",
       "4  6.001400e+09   779   779   779   779   779         779"
      ]
     },
     "execution_count": 22,
     "metadata": {},
     "output_type": "execute_result"
    }
   ],
   "source": [
    "# Solution\n",
    "tweets_by_tract = tweets_by_tract.reset_index()\n",
    "tweets_by_tract.head()"
   ]
  },
  {
   "cell_type": "markdown",
   "metadata": {},
   "source": [
    "We only want the tract number and counts. Use ```.iloc[]``` to select only the first two columns."
   ]
  },
  {
   "cell_type": "code",
   "execution_count": null,
   "metadata": {},
   "outputs": [],
   "source": [
    "##fill in the ...\n",
    "tweets_by_tract = ...\n",
    "tweets_by_tract.head()"
   ]
  },
  {
   "cell_type": "code",
   "execution_count": 23,
   "metadata": {},
   "outputs": [
    {
     "data": {
      "text/html": [
       "<div>\n",
       "<style scoped>\n",
       "    .dataframe tbody tr th:only-of-type {\n",
       "        vertical-align: middle;\n",
       "    }\n",
       "\n",
       "    .dataframe tbody tr th {\n",
       "        vertical-align: top;\n",
       "    }\n",
       "\n",
       "    .dataframe thead th {\n",
       "        text-align: right;\n",
       "    }\n",
       "</style>\n",
       "<table border=\"1\" class=\"dataframe\">\n",
       "  <thead>\n",
       "    <tr style=\"text-align: right;\">\n",
       "      <th></th>\n",
       "      <th>tract</th>\n",
       "      <th>id</th>\n",
       "    </tr>\n",
       "  </thead>\n",
       "  <tbody>\n",
       "    <tr>\n",
       "      <th>0</th>\n",
       "      <td>6.001400e+09</td>\n",
       "      <td>706</td>\n",
       "    </tr>\n",
       "    <tr>\n",
       "      <th>1</th>\n",
       "      <td>6.001400e+09</td>\n",
       "      <td>784</td>\n",
       "    </tr>\n",
       "    <tr>\n",
       "      <th>2</th>\n",
       "      <td>6.001400e+09</td>\n",
       "      <td>2289</td>\n",
       "    </tr>\n",
       "    <tr>\n",
       "      <th>3</th>\n",
       "      <td>6.001400e+09</td>\n",
       "      <td>819</td>\n",
       "    </tr>\n",
       "    <tr>\n",
       "      <th>4</th>\n",
       "      <td>6.001400e+09</td>\n",
       "      <td>779</td>\n",
       "    </tr>\n",
       "  </tbody>\n",
       "</table>\n",
       "</div>"
      ],
      "text/plain": [
       "          tract    id\n",
       "0  6.001400e+09   706\n",
       "1  6.001400e+09   784\n",
       "2  6.001400e+09  2289\n",
       "3  6.001400e+09   819\n",
       "4  6.001400e+09   779"
      ]
     },
     "execution_count": 23,
     "metadata": {},
     "output_type": "execute_result"
    }
   ],
   "source": [
    "# Solution\n",
    "tweets_by_tract = tweets_by_tract.iloc[:, 0:2]\n",
    "tweets_by_tract.head()"
   ]
  },
  {
   "cell_type": "markdown",
   "metadata": {},
   "source": [
    "\n",
    "Now we want to rename this ```id``` column to ```number of tweets```. Can you recall from the previous section how to do that?"
   ]
  },
  {
   "cell_type": "code",
   "execution_count": null,
   "metadata": {},
   "outputs": [],
   "source": [
    "##fill in the ...\n",
    "tweets_by_tract.columns = ...\n",
    "tweets_by_tract.head()"
   ]
  },
  {
   "cell_type": "code",
   "execution_count": 24,
   "metadata": {},
   "outputs": [
    {
     "data": {
      "text/html": [
       "<div>\n",
       "<style scoped>\n",
       "    .dataframe tbody tr th:only-of-type {\n",
       "        vertical-align: middle;\n",
       "    }\n",
       "\n",
       "    .dataframe tbody tr th {\n",
       "        vertical-align: top;\n",
       "    }\n",
       "\n",
       "    .dataframe thead th {\n",
       "        text-align: right;\n",
       "    }\n",
       "</style>\n",
       "<table border=\"1\" class=\"dataframe\">\n",
       "  <thead>\n",
       "    <tr style=\"text-align: right;\">\n",
       "      <th></th>\n",
       "      <th>tract</th>\n",
       "      <th>number of tweets</th>\n",
       "    </tr>\n",
       "  </thead>\n",
       "  <tbody>\n",
       "    <tr>\n",
       "      <th>0</th>\n",
       "      <td>6.001400e+09</td>\n",
       "      <td>706</td>\n",
       "    </tr>\n",
       "    <tr>\n",
       "      <th>1</th>\n",
       "      <td>6.001400e+09</td>\n",
       "      <td>784</td>\n",
       "    </tr>\n",
       "    <tr>\n",
       "      <th>2</th>\n",
       "      <td>6.001400e+09</td>\n",
       "      <td>2289</td>\n",
       "    </tr>\n",
       "    <tr>\n",
       "      <th>3</th>\n",
       "      <td>6.001400e+09</td>\n",
       "      <td>819</td>\n",
       "    </tr>\n",
       "    <tr>\n",
       "      <th>4</th>\n",
       "      <td>6.001400e+09</td>\n",
       "      <td>779</td>\n",
       "    </tr>\n",
       "  </tbody>\n",
       "</table>\n",
       "</div>"
      ],
      "text/plain": [
       "          tract  number of tweets\n",
       "0  6.001400e+09               706\n",
       "1  6.001400e+09               784\n",
       "2  6.001400e+09              2289\n",
       "3  6.001400e+09               819\n",
       "4  6.001400e+09               779"
      ]
     },
     "execution_count": 24,
     "metadata": {},
     "output_type": "execute_result"
    }
   ],
   "source": [
    "# Solution\n",
    "tweets_by_tract.columns = ['tract', 'number of tweets']\n",
    "tweets_by_tract.head()"
   ]
  },
  {
   "cell_type": "markdown",
   "metadata": {},
   "source": [
    "### Sorting tweet counts in descending order\n",
    "There are 360 tracts, which is too much to plot on one bar plot. Let's graph the top 10 tracts with the most tweets. \n",
    "\n",
    "First, let's set ```tweets_by_tract``` to a sorted version of itself. Use the function:\n",
    "\n",
    "```<the dataframe>.sort_values(by=<column name>, ascending=False)```\n",
    "\n",
    "which outputs a sorted dataframe, to do so."
   ]
  },
  {
   "cell_type": "code",
   "execution_count": null,
   "metadata": {},
   "outputs": [],
   "source": [
    "##fill in the ...\n",
    "tweets_by_tract = ...\n",
    "tweets_by_tract.head()"
   ]
  },
  {
   "cell_type": "code",
   "execution_count": 25,
   "metadata": {},
   "outputs": [
    {
     "data": {
      "text/html": [
       "<div>\n",
       "<style scoped>\n",
       "    .dataframe tbody tr th:only-of-type {\n",
       "        vertical-align: middle;\n",
       "    }\n",
       "\n",
       "    .dataframe tbody tr th {\n",
       "        vertical-align: top;\n",
       "    }\n",
       "\n",
       "    .dataframe thead th {\n",
       "        text-align: right;\n",
       "    }\n",
       "</style>\n",
       "<table border=\"1\" class=\"dataframe\">\n",
       "  <thead>\n",
       "    <tr style=\"text-align: right;\">\n",
       "      <th></th>\n",
       "      <th>tract</th>\n",
       "      <th>number of tweets</th>\n",
       "    </tr>\n",
       "  </thead>\n",
       "  <tbody>\n",
       "    <tr>\n",
       "      <th>94</th>\n",
       "      <td>6.001409e+09</td>\n",
       "      <td>15520</td>\n",
       "    </tr>\n",
       "    <tr>\n",
       "      <th>206</th>\n",
       "      <td>6.001435e+09</td>\n",
       "      <td>10996</td>\n",
       "    </tr>\n",
       "    <tr>\n",
       "      <th>251</th>\n",
       "      <td>6.001440e+09</td>\n",
       "      <td>8070</td>\n",
       "    </tr>\n",
       "    <tr>\n",
       "      <th>270</th>\n",
       "      <td>6.001442e+09</td>\n",
       "      <td>7803</td>\n",
       "    </tr>\n",
       "    <tr>\n",
       "      <th>133</th>\n",
       "      <td>6.001423e+09</td>\n",
       "      <td>7718</td>\n",
       "    </tr>\n",
       "  </tbody>\n",
       "</table>\n",
       "</div>"
      ],
      "text/plain": [
       "            tract  number of tweets\n",
       "94   6.001409e+09             15520\n",
       "206  6.001435e+09             10996\n",
       "251  6.001440e+09              8070\n",
       "270  6.001442e+09              7803\n",
       "133  6.001423e+09              7718"
      ]
     },
     "execution_count": 25,
     "metadata": {},
     "output_type": "execute_result"
    }
   ],
   "source": [
    "# Solution\n",
    "tweets_by_tract = tweets_by_tract.sort_values(by=\"number of tweets\", ascending=False)\n",
    "tweets_by_tract.head()"
   ]
  },
  {
   "cell_type": "markdown",
   "metadata": {},
   "source": [
    "Note: ascending = False makes it so that we sort the number of tweets in descending order. ascending = True will sort them in ascending order."
   ]
  },
  {
   "cell_type": "markdown",
   "metadata": {},
   "source": [
    "### Convert census tract numbers to strings\n",
    "Currently, the census tracts are stored as integers. If you tried to plot with these, the barplot would not display correctly. Additionally, census tracts are not numerical data, but categorical data. So, instead we want to store each census tract as a **string**. We can use a list comprehension to do so!\n",
    "\n",
    "Create a new column in ```tweets_by_tract``` named ```GEOID``` with these census tract strings.\n",
    "\n",
    "*Important Hint:*\n",
    "Make sure that the strings are of a specific format.\n",
    "The tract numbers are currently of the **float** type, which means they have decimal points (e.g. 10.0). We want them to be **integers** (e.g. 10) before we convert them into strings.\n",
    "\n",
    "You can use ```int()``` to convert a float first to an integer. Then use ```str()``` to convert the integer into a string! To do both at once, use ```str(int(...))```."
   ]
  },
  {
   "cell_type": "code",
   "execution_count": null,
   "metadata": {},
   "outputs": [],
   "source": [
    "##fill in the ...\n",
    "tweets_by_tract['GEOID'] = ...\n",
    "tweets_by_tract.head()"
   ]
  },
  {
   "cell_type": "code",
   "execution_count": 26,
   "metadata": {},
   "outputs": [
    {
     "data": {
      "text/html": [
       "<div>\n",
       "<style scoped>\n",
       "    .dataframe tbody tr th:only-of-type {\n",
       "        vertical-align: middle;\n",
       "    }\n",
       "\n",
       "    .dataframe tbody tr th {\n",
       "        vertical-align: top;\n",
       "    }\n",
       "\n",
       "    .dataframe thead th {\n",
       "        text-align: right;\n",
       "    }\n",
       "</style>\n",
       "<table border=\"1\" class=\"dataframe\">\n",
       "  <thead>\n",
       "    <tr style=\"text-align: right;\">\n",
       "      <th></th>\n",
       "      <th>tract</th>\n",
       "      <th>number of tweets</th>\n",
       "      <th>GEOID</th>\n",
       "    </tr>\n",
       "  </thead>\n",
       "  <tbody>\n",
       "    <tr>\n",
       "      <th>94</th>\n",
       "      <td>6.001409e+09</td>\n",
       "      <td>15520</td>\n",
       "      <td>6001409000</td>\n",
       "    </tr>\n",
       "    <tr>\n",
       "      <th>206</th>\n",
       "      <td>6.001435e+09</td>\n",
       "      <td>10996</td>\n",
       "      <td>6001435102</td>\n",
       "    </tr>\n",
       "    <tr>\n",
       "      <th>251</th>\n",
       "      <td>6.001440e+09</td>\n",
       "      <td>8070</td>\n",
       "      <td>6001440301</td>\n",
       "    </tr>\n",
       "    <tr>\n",
       "      <th>270</th>\n",
       "      <td>6.001442e+09</td>\n",
       "      <td>7803</td>\n",
       "      <td>6001441503</td>\n",
       "    </tr>\n",
       "    <tr>\n",
       "      <th>133</th>\n",
       "      <td>6.001423e+09</td>\n",
       "      <td>7718</td>\n",
       "      <td>6001422800</td>\n",
       "    </tr>\n",
       "  </tbody>\n",
       "</table>\n",
       "</div>"
      ],
      "text/plain": [
       "            tract  number of tweets       GEOID\n",
       "94   6.001409e+09             15520  6001409000\n",
       "206  6.001435e+09             10996  6001435102\n",
       "251  6.001440e+09              8070  6001440301\n",
       "270  6.001442e+09              7803  6001441503\n",
       "133  6.001423e+09              7718  6001422800"
      ]
     },
     "execution_count": 26,
     "metadata": {},
     "output_type": "execute_result"
    }
   ],
   "source": [
    "tweets_by_tract['GEOID'] = [str(int(t)) for t in tweets_by_tract['tract']]\n",
    "tweets_by_tract.head()       "
   ]
  },
  {
   "cell_type": "markdown",
   "metadata": {},
   "source": [
    "Now we want to plot the top 10 tracts with the highest counts. Use ```.iloc[]```to select the top 10 GEOID's and the top 10 tweet counts. Remember: columns have indices starting at 0! Which index are the GEOID and number of tweets columns in? After this, use\n",
    "\n",
    "```plt.bar(<the list, array, or series of x values>, <the y values>)```\n",
    "\n",
    "to plot a bar plot (note: if we want a horizontal bar plot, simply add an 'h' after bar. But for this, we will get vertical bars instead). Make sure to add a labels to the x and y axes, as well as the title. Refer to the previous section for how to do so."
   ]
  },
  {
   "cell_type": "code",
   "execution_count": null,
   "metadata": {},
   "outputs": [],
   "source": [
    "##fill in the ...\n",
    "top_10_tracts = ...\n",
    "top_10_tweetcounts = ...\n",
    "plt.figure(figsize=[18, 10])\n",
    "...\n",
    "...\n",
    "...\n",
    "..."
   ]
  },
  {
   "cell_type": "code",
   "execution_count": 27,
   "metadata": {},
   "outputs": [
    {
     "data": {
      "text/plain": [
       "Text(0.5, 1.0, 'Top 10 Tracts with highest count of Tweets')"
      ]
     },
     "execution_count": 27,
     "metadata": {},
     "output_type": "execute_result"
    },
    {
     "data": {
      "image/png": "[encoded data removed]",
      "text/plain": [
       "<Figure size 1296x720 with 1 Axes>"
      ]
     },
     "metadata": {
      "needs_background": "light"
     },
     "output_type": "display_data"
    }
   ],
   "source": [
    "# Solution\n",
    "top_10_tracts = tweets_by_tract.iloc[:10, 2]\n",
    "top_10_tweetcounts = tweets_by_tract.iloc[:10, 1]\n",
    "plt.figure(figsize=[18, 10])\n",
    "plt.bar(top_10_tracts, top_10_tweetcounts)\n",
    "plt.xlabel('number of tweets')\n",
    "plt.ylabel('census tract number')\n",
    "plt.title('Top 10 Tracts with highest count of Tweets')"
   ]
  },
  {
   "cell_type": "markdown",
   "metadata": {},
   "source": [
    "## Moving on to GeoPandas: Visualizing number of tweets per census tract spatially\n",
    "The bar plot is fascinating, but we're not any more enlightened than before, because most people don't memorize census tract numbers. A better way would be to analyze the data spatially, which means using GeoPandas!\n",
    "\n",
    "Read in the alameda data from the previous lab. This contains the Shapely geometry polygons that we'll need to map our data."
   ]
  },
  {
   "cell_type": "code",
   "execution_count": 28,
   "metadata": {
    "scrolled": true
   },
   "outputs": [
    {
     "data": {
      "text/html": [
       "<div>\n",
       "<style scoped>\n",
       "    .dataframe tbody tr th:only-of-type {\n",
       "        vertical-align: middle;\n",
       "    }\n",
       "\n",
       "    .dataframe tbody tr th {\n",
       "        vertical-align: top;\n",
       "    }\n",
       "\n",
       "    .dataframe thead th {\n",
       "        text-align: right;\n",
       "    }\n",
       "</style>\n",
       "<table border=\"1\" class=\"dataframe\">\n",
       "  <thead>\n",
       "    <tr style=\"text-align: right;\">\n",
       "      <th></th>\n",
       "      <th>AFFGEOID</th>\n",
       "      <th>ALAND</th>\n",
       "      <th>ALAND_1</th>\n",
       "      <th>AWATER</th>\n",
       "      <th>AWATER_1</th>\n",
       "      <th>COUNTYFP</th>\n",
       "      <th>COUNTYFP_1</th>\n",
       "      <th>FID_1</th>\n",
       "      <th>FUNCSTAT</th>\n",
       "      <th>GEOID</th>\n",
       "      <th>...</th>\n",
       "      <th>female</th>\n",
       "      <th>male</th>\n",
       "      <th>medianage</th>\n",
       "      <th>mergeid</th>\n",
       "      <th>pct_20to64</th>\n",
       "      <th>pct_over64</th>\n",
       "      <th>pct_pov</th>\n",
       "      <th>pct_und_20</th>\n",
       "      <th>total_pop</th>\n",
       "      <th>geometry</th>\n",
       "    </tr>\n",
       "  </thead>\n",
       "  <tbody>\n",
       "    <tr>\n",
       "      <th>0</th>\n",
       "      <td>1400000US06001400600</td>\n",
       "      <td>297856.0</td>\n",
       "      <td>297856.0</td>\n",
       "      <td>0.0</td>\n",
       "      <td>0.0</td>\n",
       "      <td>001</td>\n",
       "      <td>001</td>\n",
       "      <td>275.0</td>\n",
       "      <td>S</td>\n",
       "      <td>06001400600</td>\n",
       "      <td>...</td>\n",
       "      <td>1020.0</td>\n",
       "      <td>730.0</td>\n",
       "      <td>34.4</td>\n",
       "      <td>06001400600</td>\n",
       "      <td>78.2</td>\n",
       "      <td>9.8</td>\n",
       "      <td>8.3</td>\n",
       "      <td>12.0</td>\n",
       "      <td>1750.0</td>\n",
       "      <td>POLYGON ((-122.26807 37.844136, -122.26514 37....</td>\n",
       "    </tr>\n",
       "    <tr>\n",
       "      <th>1</th>\n",
       "      <td>1400000US06001400900</td>\n",
       "      <td>420877.0</td>\n",
       "      <td>420877.0</td>\n",
       "      <td>0.0</td>\n",
       "      <td>0.0</td>\n",
       "      <td>001</td>\n",
       "      <td>001</td>\n",
       "      <td>297.0</td>\n",
       "      <td>S</td>\n",
       "      <td>06001400900</td>\n",
       "      <td>...</td>\n",
       "      <td>1106.0</td>\n",
       "      <td>925.0</td>\n",
       "      <td>38.9</td>\n",
       "      <td>06001400900</td>\n",
       "      <td>71.0</td>\n",
       "      <td>7.7</td>\n",
       "      <td>12.0</td>\n",
       "      <td>21.0</td>\n",
       "      <td>2031.0</td>\n",
       "      <td>POLYGON ((-122.285576 37.839778, -122.283186 3...</td>\n",
       "    </tr>\n",
       "    <tr>\n",
       "      <th>2</th>\n",
       "      <td>1400000US06001401400</td>\n",
       "      <td>758241.0</td>\n",
       "      <td>758241.0</td>\n",
       "      <td>0.0</td>\n",
       "      <td>0.0</td>\n",
       "      <td>001</td>\n",
       "      <td>001</td>\n",
       "      <td>239.0</td>\n",
       "      <td>S</td>\n",
       "      <td>06001401400</td>\n",
       "      <td>...</td>\n",
       "      <td>2170.0</td>\n",
       "      <td>2127.0</td>\n",
       "      <td>31.3</td>\n",
       "      <td>06001401400</td>\n",
       "      <td>64.7</td>\n",
       "      <td>8.2</td>\n",
       "      <td>41.7</td>\n",
       "      <td>27.1</td>\n",
       "      <td>4297.0</td>\n",
       "      <td>POLYGON ((-122.278611 37.826878, -122.268563 3...</td>\n",
       "    </tr>\n",
       "    <tr>\n",
       "      <th>3</th>\n",
       "      <td>1400000US06001403000</td>\n",
       "      <td>352394.0</td>\n",
       "      <td>352394.0</td>\n",
       "      <td>0.0</td>\n",
       "      <td>0.0</td>\n",
       "      <td>001</td>\n",
       "      <td>001</td>\n",
       "      <td>258.0</td>\n",
       "      <td>S</td>\n",
       "      <td>06001403000</td>\n",
       "      <td>...</td>\n",
       "      <td>1445.0</td>\n",
       "      <td>1026.0</td>\n",
       "      <td>58.3</td>\n",
       "      <td>06001403000</td>\n",
       "      <td>47.9</td>\n",
       "      <td>43.8</td>\n",
       "      <td>30.2</td>\n",
       "      <td>8.3</td>\n",
       "      <td>2471.0</td>\n",
       "      <td>POLYGON ((-122.274757 37.79883299999999, -122....</td>\n",
       "    </tr>\n",
       "    <tr>\n",
       "      <th>4</th>\n",
       "      <td>1400000US06001405902</td>\n",
       "      <td>487280.0</td>\n",
       "      <td>487280.0</td>\n",
       "      <td>0.0</td>\n",
       "      <td>0.0</td>\n",
       "      <td>001</td>\n",
       "      <td>001</td>\n",
       "      <td>746.0</td>\n",
       "      <td>S</td>\n",
       "      <td>06001405902</td>\n",
       "      <td>...</td>\n",
       "      <td>1713.0</td>\n",
       "      <td>1808.0</td>\n",
       "      <td>31.5</td>\n",
       "      <td>06001405902</td>\n",
       "      <td>58.6</td>\n",
       "      <td>10.0</td>\n",
       "      <td>31.0</td>\n",
       "      <td>31.5</td>\n",
       "      <td>3521.0</td>\n",
       "      <td>POLYGON ((-122.247175 37.789913, -122.243512 3...</td>\n",
       "    </tr>\n",
       "  </tbody>\n",
       "</table>\n",
       "<p>5 rows × 35 columns</p>\n",
       "</div>"
      ],
      "text/plain": [
       "               AFFGEOID     ALAND   ALAND_1  AWATER  AWATER_1 COUNTYFP  \\\n",
       "0  1400000US06001400600  297856.0  297856.0     0.0       0.0      001   \n",
       "1  1400000US06001400900  420877.0  420877.0     0.0       0.0      001   \n",
       "2  1400000US06001401400  758241.0  758241.0     0.0       0.0      001   \n",
       "3  1400000US06001403000  352394.0  352394.0     0.0       0.0      001   \n",
       "4  1400000US06001405902  487280.0  487280.0     0.0       0.0      001   \n",
       "\n",
       "  COUNTYFP_1  FID_1 FUNCSTAT        GEOID  \\\n",
       "0        001  275.0        S  06001400600   \n",
       "1        001  297.0        S  06001400900   \n",
       "2        001  239.0        S  06001401400   \n",
       "3        001  258.0        S  06001403000   \n",
       "4        001  746.0        S  06001405902   \n",
       "\n",
       "                         ...                          female    male  \\\n",
       "0                        ...                          1020.0   730.0   \n",
       "1                        ...                          1106.0   925.0   \n",
       "2                        ...                          2170.0  2127.0   \n",
       "3                        ...                          1445.0  1026.0   \n",
       "4                        ...                          1713.0  1808.0   \n",
       "\n",
       "  medianage      mergeid pct_20to64  pct_over64 pct_pov pct_und_20 total_pop  \\\n",
       "0      34.4  06001400600       78.2         9.8     8.3       12.0    1750.0   \n",
       "1      38.9  06001400900       71.0         7.7    12.0       21.0    2031.0   \n",
       "2      31.3  06001401400       64.7         8.2    41.7       27.1    4297.0   \n",
       "3      58.3  06001403000       47.9        43.8    30.2        8.3    2471.0   \n",
       "4      31.5  06001405902       58.6        10.0    31.0       31.5    3521.0   \n",
       "\n",
       "                                            geometry  \n",
       "0  POLYGON ((-122.26807 37.844136, -122.26514 37....  \n",
       "1  POLYGON ((-122.285576 37.839778, -122.283186 3...  \n",
       "2  POLYGON ((-122.278611 37.826878, -122.268563 3...  \n",
       "3  POLYGON ((-122.274757 37.79883299999999, -122....  \n",
       "4  POLYGON ((-122.247175 37.789913, -122.243512 3...  \n",
       "\n",
       "[5 rows x 35 columns]"
      ]
     },
     "execution_count": 28,
     "metadata": {},
     "output_type": "execute_result"
    }
   ],
   "source": [
    "alameda = gpd.read_file('alameda_shapefiles')\n",
    "alameda.head()"
   ]
  },
  {
   "cell_type": "markdown",
   "metadata": {},
   "source": [
    "Let's recall what the column names are for this dataset. Run the cell below."
   ]
  },
  {
   "cell_type": "code",
   "execution_count": 29,
   "metadata": {},
   "outputs": [
    {
     "data": {
      "text/plain": [
       "Index(['AFFGEOID', 'ALAND', 'ALAND_1', 'AWATER', 'AWATER_1', 'COUNTYFP',\n",
       "       'COUNTYFP_1', 'FID_1', 'FUNCSTAT', 'GEOID', 'GEOID_1', 'Geography',\n",
       "       'INTPTLAT', 'INTPTLON', 'Id', 'Id2', 'LSAD', 'MTFCC', 'NAME',\n",
       "       'NAMELSAD', 'NAME_1', 'STATEFP', 'STATEFP_1', 'TRACTCE', 'TRACTCE_1',\n",
       "       'female', 'male', 'medianage', 'mergeid', 'pct_20to64', 'pct_over64',\n",
       "       'pct_pov', 'pct_und_20', 'total_pop', 'geometry'],\n",
       "      dtype='object')"
      ]
     },
     "execution_count": 29,
     "metadata": {},
     "output_type": "execute_result"
    }
   ],
   "source": [
    "alameda.columns"
   ]
  },
  {
   "cell_type": "markdown",
   "metadata": {},
   "source": [
    "We don't need all of these columns. Use ```.loc[]``` to select only the columns named:\n",
    "GEOID, female, male, medianage, total_pop, and geometry."
   ]
  },
  {
   "cell_type": "code",
   "execution_count": 30,
   "metadata": {},
   "outputs": [
    {
     "data": {
      "text/html": [
       "<div>\n",
       "<style scoped>\n",
       "    .dataframe tbody tr th:only-of-type {\n",
       "        vertical-align: middle;\n",
       "    }\n",
       "\n",
       "    .dataframe tbody tr th {\n",
       "        vertical-align: top;\n",
       "    }\n",
       "\n",
       "    .dataframe thead th {\n",
       "        text-align: right;\n",
       "    }\n",
       "</style>\n",
       "<table border=\"1\" class=\"dataframe\">\n",
       "  <thead>\n",
       "    <tr style=\"text-align: right;\">\n",
       "      <th></th>\n",
       "      <th>GEOID</th>\n",
       "      <th>female</th>\n",
       "      <th>male</th>\n",
       "      <th>medianage</th>\n",
       "      <th>total_pop</th>\n",
       "      <th>geometry</th>\n",
       "    </tr>\n",
       "  </thead>\n",
       "  <tbody>\n",
       "    <tr>\n",
       "      <th>0</th>\n",
       "      <td>06001400600</td>\n",
       "      <td>1020.0</td>\n",
       "      <td>730.0</td>\n",
       "      <td>34.4</td>\n",
       "      <td>1750.0</td>\n",
       "      <td>POLYGON ((-122.26807 37.844136, -122.26514 37....</td>\n",
       "    </tr>\n",
       "    <tr>\n",
       "      <th>1</th>\n",
       "      <td>06001400900</td>\n",
       "      <td>1106.0</td>\n",
       "      <td>925.0</td>\n",
       "      <td>38.9</td>\n",
       "      <td>2031.0</td>\n",
       "      <td>POLYGON ((-122.285576 37.839778, -122.283186 3...</td>\n",
       "    </tr>\n",
       "    <tr>\n",
       "      <th>2</th>\n",
       "      <td>06001401400</td>\n",
       "      <td>2170.0</td>\n",
       "      <td>2127.0</td>\n",
       "      <td>31.3</td>\n",
       "      <td>4297.0</td>\n",
       "      <td>POLYGON ((-122.278611 37.826878, -122.268563 3...</td>\n",
       "    </tr>\n",
       "    <tr>\n",
       "      <th>3</th>\n",
       "      <td>06001403000</td>\n",
       "      <td>1445.0</td>\n",
       "      <td>1026.0</td>\n",
       "      <td>58.3</td>\n",
       "      <td>2471.0</td>\n",
       "      <td>POLYGON ((-122.274757 37.79883299999999, -122....</td>\n",
       "    </tr>\n",
       "    <tr>\n",
       "      <th>4</th>\n",
       "      <td>06001405902</td>\n",
       "      <td>1713.0</td>\n",
       "      <td>1808.0</td>\n",
       "      <td>31.5</td>\n",
       "      <td>3521.0</td>\n",
       "      <td>POLYGON ((-122.247175 37.789913, -122.243512 3...</td>\n",
       "    </tr>\n",
       "  </tbody>\n",
       "</table>\n",
       "</div>"
      ],
      "text/plain": [
       "         GEOID  female    male  medianage  total_pop  \\\n",
       "0  06001400600  1020.0   730.0       34.4     1750.0   \n",
       "1  06001400900  1106.0   925.0       38.9     2031.0   \n",
       "2  06001401400  2170.0  2127.0       31.3     4297.0   \n",
       "3  06001403000  1445.0  1026.0       58.3     2471.0   \n",
       "4  06001405902  1713.0  1808.0       31.5     3521.0   \n",
       "\n",
       "                                            geometry  \n",
       "0  POLYGON ((-122.26807 37.844136, -122.26514 37....  \n",
       "1  POLYGON ((-122.285576 37.839778, -122.283186 3...  \n",
       "2  POLYGON ((-122.278611 37.826878, -122.268563 3...  \n",
       "3  POLYGON ((-122.274757 37.79883299999999, -122....  \n",
       "4  POLYGON ((-122.247175 37.789913, -122.243512 3...  "
      ]
     },
     "execution_count": 30,
     "metadata": {},
     "output_type": "execute_result"
    }
   ],
   "source": [
    "alameda = alameda.loc[:, ['GEOID', 'female', 'male', 'medianage', 'total_pop', 'geometry']]\n",
    "alameda.head()"
   ]
  },
  {
   "cell_type": "markdown",
   "metadata": {},
   "source": [
    "### Merging dataframes\n",
    "Notice how the ```alameda``` dataset contains a variety of values by GEOID. Conveniently, so does our ```tweets_per_tract``` dataset! If we simply add the tweet counts to the alameda dataset, we would be able to plot a chloropleth map on the number of tweets per census tract.\n",
    "\n",
    "To do so, we're going to perform an operation called a **merge** or **join**. We're going to perform the join on the ```GEOID``` column, so that the tweet count data corresponds correctly to the right census tract.\n",
    "\n",
    "First, we need to fix a slight problem. The ```alameda GEOID``` column values have a 0 before, while the ```tweets_by_tract GEOID``` column values don't. This is easy, we can just concatenate a '0' in front of each census tract number in ```tweets_by_tract``` using a list comprehension.\n",
    "\n",
    "Below is a quick review on how string concatenation works."
   ]
  },
  {
   "cell_type": "code",
   "execution_count": 31,
   "metadata": {
    "scrolled": false
   },
   "outputs": [
    {
     "data": {
      "text/plain": [
       "'pineapplepen'"
      ]
     },
     "execution_count": 31,
     "metadata": {},
     "output_type": "execute_result"
    }
   ],
   "source": [
    "\"pineapple\" + \"pen\""
   ]
  },
  {
   "cell_type": "markdown",
   "metadata": {},
   "source": [
    "Now, fill in the cell below with a list comprehension that append a '0' in f ront of each GEOID.\n",
    "\n",
    "Hint: recall the str(int()) trick from before."
   ]
  },
  {
   "cell_type": "code",
   "execution_count": null,
   "metadata": {},
   "outputs": [],
   "source": [
    "##fill in the ...\n",
    "tweets_by_tract['GEOID'] = ...\n",
    "tweets_by_tract.head()"
   ]
  },
  {
   "cell_type": "code",
   "execution_count": 32,
   "metadata": {},
   "outputs": [
    {
     "data": {
      "text/html": [
       "<div>\n",
       "<style scoped>\n",
       "    .dataframe tbody tr th:only-of-type {\n",
       "        vertical-align: middle;\n",
       "    }\n",
       "\n",
       "    .dataframe tbody tr th {\n",
       "        vertical-align: top;\n",
       "    }\n",
       "\n",
       "    .dataframe thead th {\n",
       "        text-align: right;\n",
       "    }\n",
       "</style>\n",
       "<table border=\"1\" class=\"dataframe\">\n",
       "  <thead>\n",
       "    <tr style=\"text-align: right;\">\n",
       "      <th></th>\n",
       "      <th>tract</th>\n",
       "      <th>number of tweets</th>\n",
       "      <th>GEOID</th>\n",
       "    </tr>\n",
       "  </thead>\n",
       "  <tbody>\n",
       "    <tr>\n",
       "      <th>94</th>\n",
       "      <td>6.001409e+09</td>\n",
       "      <td>15520</td>\n",
       "      <td>06001409000</td>\n",
       "    </tr>\n",
       "    <tr>\n",
       "      <th>206</th>\n",
       "      <td>6.001435e+09</td>\n",
       "      <td>10996</td>\n",
       "      <td>06001435102</td>\n",
       "    </tr>\n",
       "    <tr>\n",
       "      <th>251</th>\n",
       "      <td>6.001440e+09</td>\n",
       "      <td>8070</td>\n",
       "      <td>06001440301</td>\n",
       "    </tr>\n",
       "    <tr>\n",
       "      <th>270</th>\n",
       "      <td>6.001442e+09</td>\n",
       "      <td>7803</td>\n",
       "      <td>06001441503</td>\n",
       "    </tr>\n",
       "    <tr>\n",
       "      <th>133</th>\n",
       "      <td>6.001423e+09</td>\n",
       "      <td>7718</td>\n",
       "      <td>06001422800</td>\n",
       "    </tr>\n",
       "  </tbody>\n",
       "</table>\n",
       "</div>"
      ],
      "text/plain": [
       "            tract  number of tweets        GEOID\n",
       "94   6.001409e+09             15520  06001409000\n",
       "206  6.001435e+09             10996  06001435102\n",
       "251  6.001440e+09              8070  06001440301\n",
       "270  6.001442e+09              7803  06001441503\n",
       "133  6.001423e+09              7718  06001422800"
      ]
     },
     "execution_count": 32,
     "metadata": {},
     "output_type": "execute_result"
    }
   ],
   "source": [
    "# Solution\n",
    "tweets_by_tract['GEOID'] = ['0' + str(int(t)) for t in tweets_by_tract['tract']]\n",
    "tweets_by_tract.head()"
   ]
  },
  {
   "cell_type": "markdown",
   "metadata": {},
   "source": [
    "Time to merge! Use the function\n",
    "\n",
    "```<a dataframe>.merge(<another dataframe>, on=<column name to merge on>)```\n",
    "\n",
    "and set the output equal to variable called ```combined```."
   ]
  },
  {
   "cell_type": "code",
   "execution_count": null,
   "metadata": {},
   "outputs": [],
   "source": [
    "##fill in\n",
    "combined = ...\n",
    "combined.head()"
   ]
  },
  {
   "cell_type": "code",
   "execution_count": 33,
   "metadata": {},
   "outputs": [
    {
     "data": {
      "text/html": [
       "<div>\n",
       "<style scoped>\n",
       "    .dataframe tbody tr th:only-of-type {\n",
       "        vertical-align: middle;\n",
       "    }\n",
       "\n",
       "    .dataframe tbody tr th {\n",
       "        vertical-align: top;\n",
       "    }\n",
       "\n",
       "    .dataframe thead th {\n",
       "        text-align: right;\n",
       "    }\n",
       "</style>\n",
       "<table border=\"1\" class=\"dataframe\">\n",
       "  <thead>\n",
       "    <tr style=\"text-align: right;\">\n",
       "      <th></th>\n",
       "      <th>GEOID</th>\n",
       "      <th>female</th>\n",
       "      <th>male</th>\n",
       "      <th>medianage</th>\n",
       "      <th>total_pop</th>\n",
       "      <th>geometry</th>\n",
       "      <th>tract</th>\n",
       "      <th>number of tweets</th>\n",
       "    </tr>\n",
       "  </thead>\n",
       "  <tbody>\n",
       "    <tr>\n",
       "      <th>0</th>\n",
       "      <td>06001400600</td>\n",
       "      <td>1020.0</td>\n",
       "      <td>730.0</td>\n",
       "      <td>34.4</td>\n",
       "      <td>1750.0</td>\n",
       "      <td>POLYGON ((-122.26807 37.844136, -122.26514 37....</td>\n",
       "      <td>6.001401e+09</td>\n",
       "      <td>1290</td>\n",
       "    </tr>\n",
       "    <tr>\n",
       "      <th>1</th>\n",
       "      <td>06001400900</td>\n",
       "      <td>1106.0</td>\n",
       "      <td>925.0</td>\n",
       "      <td>38.9</td>\n",
       "      <td>2031.0</td>\n",
       "      <td>POLYGON ((-122.285576 37.839778, -122.283186 3...</td>\n",
       "      <td>6.001401e+09</td>\n",
       "      <td>601</td>\n",
       "    </tr>\n",
       "    <tr>\n",
       "      <th>2</th>\n",
       "      <td>06001401400</td>\n",
       "      <td>2170.0</td>\n",
       "      <td>2127.0</td>\n",
       "      <td>31.3</td>\n",
       "      <td>4297.0</td>\n",
       "      <td>POLYGON ((-122.278611 37.826878, -122.268563 3...</td>\n",
       "      <td>6.001401e+09</td>\n",
       "      <td>2727</td>\n",
       "    </tr>\n",
       "    <tr>\n",
       "      <th>3</th>\n",
       "      <td>06001403000</td>\n",
       "      <td>1445.0</td>\n",
       "      <td>1026.0</td>\n",
       "      <td>58.3</td>\n",
       "      <td>2471.0</td>\n",
       "      <td>POLYGON ((-122.274757 37.79883299999999, -122....</td>\n",
       "      <td>6.001403e+09</td>\n",
       "      <td>1924</td>\n",
       "    </tr>\n",
       "    <tr>\n",
       "      <th>4</th>\n",
       "      <td>06001405902</td>\n",
       "      <td>1713.0</td>\n",
       "      <td>1808.0</td>\n",
       "      <td>31.5</td>\n",
       "      <td>3521.0</td>\n",
       "      <td>POLYGON ((-122.247175 37.789913, -122.243512 3...</td>\n",
       "      <td>6.001406e+09</td>\n",
       "      <td>956</td>\n",
       "    </tr>\n",
       "  </tbody>\n",
       "</table>\n",
       "</div>"
      ],
      "text/plain": [
       "         GEOID  female    male  medianage  total_pop  \\\n",
       "0  06001400600  1020.0   730.0       34.4     1750.0   \n",
       "1  06001400900  1106.0   925.0       38.9     2031.0   \n",
       "2  06001401400  2170.0  2127.0       31.3     4297.0   \n",
       "3  06001403000  1445.0  1026.0       58.3     2471.0   \n",
       "4  06001405902  1713.0  1808.0       31.5     3521.0   \n",
       "\n",
       "                                            geometry         tract  \\\n",
       "0  POLYGON ((-122.26807 37.844136, -122.26514 37....  6.001401e+09   \n",
       "1  POLYGON ((-122.285576 37.839778, -122.283186 3...  6.001401e+09   \n",
       "2  POLYGON ((-122.278611 37.826878, -122.268563 3...  6.001401e+09   \n",
       "3  POLYGON ((-122.274757 37.79883299999999, -122....  6.001403e+09   \n",
       "4  POLYGON ((-122.247175 37.789913, -122.243512 3...  6.001406e+09   \n",
       "\n",
       "   number of tweets  \n",
       "0              1290  \n",
       "1               601  \n",
       "2              2727  \n",
       "3              1924  \n",
       "4               956  "
      ]
     },
     "execution_count": 33,
     "metadata": {},
     "output_type": "execute_result"
    }
   ],
   "source": [
    "# Solution\n",
    "combined = alameda.merge(tweets_by_tract, on='GEOID')\n",
    "combined.head()"
   ]
  },
  {
   "cell_type": "markdown",
   "metadata": {},
   "source": [
    "There are other types of merging techniques in python. By default, if we do not specify what type of merge we do, python will treat is as a ```left``` join, which means if will keep all the unique values for the table on the left of the .merge method. To learn more about other types of joins, see the link below:\n",
    "\n",
    "https://pandas.pydata.org/pandas-docs/stable/reference/api/pandas.DataFrame.merge.html\n"
   ]
  },
  {
   "cell_type": "markdown",
   "metadata": {},
   "source": [
    "Recall the chloropleths we created in the last lab. Now create a chloropleth map of the number of tweets per census tract.\n",
    "\n",
    "Reference:\n",
    "```<the geodataframe>.plot(column=<column name>, legend=True, figsize=[18, 10])```\n",
    "\n",
    "Remember to add a title and remove the axes."
   ]
  },
  {
   "cell_type": "code",
   "execution_count": null,
   "metadata": {},
   "outputs": [],
   "source": [
    "#fill in the ... with your code and replace the next line with combined.plot(...)\n",
    "\n",
    "##replace this line with combined.plot(...)\n",
    "bounds = ...\n",
    "minx = bounds[0]\n",
    "miny = bounds[1]\n",
    "maxx = bounds[2]\n",
    "maxy = bounds[3]\n",
    "text_properties = {'ha': 'center', 'va': 'center', 'fontsize' : 20} \n",
    "plt.text(maxx + (maxx-minx)/4.5, (maxy - miny)/2 + miny, 'Percentage of Tweet Counts by Census Tract', text_properties, rotation=90)\n",
    "plt.title(..., fontsize = 30)\n",
    "plt.axis(..);"
   ]
  },
  {
   "cell_type": "code",
   "execution_count": 34,
   "metadata": {},
   "outputs": [
    {
     "data": {
      "image/png": "[encoded data removed]",
      "text/plain": [
       "<Figure size 1296x720 with 2 Axes>"
      ]
     },
     "metadata": {
      "needs_background": "light"
     },
     "output_type": "display_data"
    }
   ],
   "source": [
    "# Solution\n",
    "combined.plot(column = 'number of tweets', legend = True, figsize=[18, 10])\n",
    "bounds = alameda.total_bounds\n",
    "minx = bounds[0]\n",
    "miny = bounds[1]\n",
    "maxx = bounds[2]\n",
    "maxy = bounds[3]\n",
    "text_properties = {'ha': 'center', 'va': 'center', 'fontsize' : 20} \n",
    "plt.text(maxx + (maxx-minx)/4.5, (maxy - miny)/2 + miny, 'Percentage of Tweet Counts by Census Tract', text_properties, rotation=90)\n",
    "plt.title('Alameda Tweet Counts by Census Tract', fontsize = 30)\n",
    "plt.axis('off');"
   ]
  },
  {
   "cell_type": "markdown",
   "metadata": {},
   "source": [
    "This looks so much better than the bar plot! But what if some census tracts only have a lot of tweets because they have a larger population size? Instead, we should plot number of tweets per capita.\n",
    "\n",
    "Make a new column in ```combined``` called ```avg tweets per capita```. Set it equal to ```number of tweets``` divided by ```total_pop```. Then plot the new chloropleth map. Remember to add the title and remove the axes."
   ]
  },
  {
   "cell_type": "code",
   "execution_count": null,
   "metadata": {},
   "outputs": [],
   "source": [
    "##fill in the ... with your code\n",
    "combined[\"avg tweets per capita\"] = ...\n",
    "\n",
    "##Let's see what the table looks now with the new column:\n",
    "combined.head() ##scroll to the right if needed to see all the columns"
   ]
  },
  {
   "cell_type": "code",
   "execution_count": null,
   "metadata": {},
   "outputs": [],
   "source": [
    "##fill in the ... with your code to plot\n",
    "combined.plot(...)\n",
    "plt.text(maxx + (maxx-minx)/4.5, (maxy - miny)/2 + miny, 'Percentage of Tweet Counts by Census Tract', text_properties, rotation=90)\n",
    "plt.title(...)\n",
    "plt.axis(...);"
   ]
  },
  {
   "cell_type": "code",
   "execution_count": 35,
   "metadata": {},
   "outputs": [
    {
     "data": {
      "image/png": "[encoded data removed]",
      "text/plain": [
       "<Figure size 1296x720 with 2 Axes>"
      ]
     },
     "metadata": {
      "needs_background": "light"
     },
     "output_type": "display_data"
    }
   ],
   "source": [
    "##solutions\n",
    "combined[\"avg tweets per capita\"] = combined[\"number of tweets\"] / combined[\"total_pop\"]\n",
    "combined.plot(column = 'avg tweets per capita', legend = True, figsize=[18, 10])\n",
    "plt.text(maxx + (maxx-minx)/4.5, (maxy - miny)/2 + miny, 'Percentage of Average Tweet Counts by Census Tract', text_properties, rotation=90)\n",
    "plt.title('Alameda Avg Tweets per Capita by Census Tract', fontsize = 30)\n",
    "plt.axis('off');"
   ]
  },
  {
   "cell_type": "markdown",
   "metadata": {},
   "source": [
    "These are by no means the only visualizations you can create with the ```combined``` dataset. In the cell below, create your own visualization! "
   ]
  },
  {
   "cell_type": "code",
   "execution_count": null,
   "metadata": {},
   "outputs": [],
   "source": [
    "# Your own visualization here"
   ]
  },
  {
   "cell_type": "markdown",
   "metadata": {},
   "source": [
    "## Feedback form\n",
    "Thank you for exploring data science with us! We hope you have enjoyed the past four labs that the division of data science has created for you. It would be wonderful if you could leave us feedback here so that we can improve for the course in the future:\n",
    "\n",
    "https://docs.google.com/forms/d/e/1FAIpQLSe54U3E64kYFWwQHSUpAvWYMuJOdKzbHDZjPa3nMUlHSSs0PQ/viewform\n",
    "\n",
    "\n",
    "## Resources\n",
    "If you're interested in exploring more about data science, Berkeley's [Data 8](https://www.inferentialthinking.com/chapters/intro.html) and [Data 100](https://www.textbook.ds100.org/) textbooks are very well-written with interactive links to follow along.\n",
    "\n",
    "There are also websites like [DataCamp](https://www.datacamp.com/courses) and [DataQuest](https://www.dataquest.io/course/python-for-data-science-fundamentals/) that offer online interactive courses in R, Python, and SQL, many of them for free.\n",
    "\n",
    "If you're stuck trying to work on a project, [Data Peer Consulting](https://data.berkeley.edu/education/data-peer-consulting) at the Division of Data Sciences could be helpful to you.\n",
    "\n",
    "If you're looking for more specialized help, the [D-lab](https://dlab.berkeley.edu/) which focuses on data science applications to the social sciences specifically, holds [workshops](https://dlab.berkeley.edu/training) and [consulting](https://dlab.berkeley.edu/consulting), many on geospatial data.\n",
    "\n",
    "---\n",
    "### Author: Rebekah Tang\n",
    "\n",
    "### References:\n",
    "- GeoPandas Mapping Documentation: http://geopandas.org/mapping.html\n",
    "- Pandas Documentation: https://pandas.pydata.org/pandas-docs/stable/reference/frame.html\n",
    "- Matplotlib Documentation: https://matplotlib.org/api/pyplot_summary.html"
   ]
  },
  {
   "cell_type": "code",
   "execution_count": null,
   "metadata": {},
   "outputs": [],
   "source": []
  }
 ],
 "metadata": {
  "kernelspec": {
   "display_name": "Python 3",
   "language": "python",
   "name": "python3"
  },
  "language_info": {
   "codemirror_mode": {
    "name": "ipython",
    "version": 3
   },
   "file_extension": ".py",
   "mimetype": "text/x-python",
   "name": "python",
   "nbconvert_exporter": "python",
   "pygments_lexer": "ipython3",
   "version": "3.6.7"
  }
 },
 "nbformat": 4,
 "nbformat_minor": 2
}
